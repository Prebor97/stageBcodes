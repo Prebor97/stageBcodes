{
 "cells": [
  {
   "cell_type": "code",
   "execution_count": 17,
   "id": "c22f4eec",
   "metadata": {},
   "outputs": [],
   "source": [
    "import pandas as pd\n",
    "import numpy as np\n",
    "from sklearn.model_selection import train_test_split\n",
    "from sklearn.preprocessing import StandardScaler\n",
    "from sklearn.ensemble import RandomForestClassifier\n",
    "from sklearn.metrics import recall_score, accuracy_score, precision_score, f1_score, confusion_matrix\n",
    "from xgboost import XGBClassifier\n",
    "from sklearn.ensemble import ExtraTreesClassifier \n",
    "from sklearn.preprocessing import LabelEncoder\n",
    "from lightgbm import LGBMClassifier"
   ]
  },
  {
   "cell_type": "code",
   "execution_count": 2,
   "id": "e6e74445",
   "metadata": {},
   "outputs": [],
   "source": [
    "df = pd.read_csv('Data_for_UCI_named.csv')"
   ]
  },
  {
   "cell_type": "code",
   "execution_count": 3,
   "id": "8888c7a2",
   "metadata": {},
   "outputs": [],
   "source": [
    "df.drop(columns = ['stab'], inplace = True)"
   ]
  },
  {
   "cell_type": "code",
   "execution_count": 4,
   "id": "787b5602",
   "metadata": {},
   "outputs": [],
   "source": [
    "le = LabelEncoder()"
   ]
  },
  {
   "cell_type": "code",
   "execution_count": 7,
   "id": "10d5c506",
   "metadata": {},
   "outputs": [],
   "source": [
    "label = le.fit_transform(df['stabf'])\n",
    "df.drop(columns = ['stabf'], axis = 1, inplace = True)\n",
    "df['stabf'] = label"
   ]
  },
  {
   "cell_type": "code",
   "execution_count": 8,
   "id": "f9701986",
   "metadata": {},
   "outputs": [],
   "source": [
    "X = df.drop(columns = 'stabf')\n",
    "y = df['stabf']"
   ]
  },
  {
   "cell_type": "code",
   "execution_count": 9,
   "id": "b3fab28f",
   "metadata": {},
   "outputs": [],
   "source": [
    "x_train, x_test, y_train, y_test = train_test_split(X, y, test_size = 0.2, random_state = 1)"
   ]
  },
  {
   "cell_type": "code",
   "execution_count": 12,
   "id": "87909286",
   "metadata": {},
   "outputs": [],
   "source": [
    "scaler = StandardScaler()\n",
    "scaled_train = pd.DataFrame(scaler.fit_transform(x_train),columns = x_train.columns)\n",
    "scaled_test = pd.DataFrame(scaler.fit_transform(x_test),columns = x_test.columns)"
   ]
  },
  {
   "cell_type": "markdown",
   "id": "37a4405b",
   "metadata": {},
   "source": [
    "# Random Forest"
   ]
  },
  {
   "cell_type": "code",
   "execution_count": 13,
   "id": "5e11ac11",
   "metadata": {},
   "outputs": [],
   "source": [
    "rand = RandomForestClassifier(random_state = 1).fit(scaled_train,y_train)\n",
    "pred = rand.predict(scaled_test)"
   ]
  },
  {
   "cell_type": "markdown",
   "id": "2387c95b",
   "metadata": {},
   "source": [
    "### QUESTION 1"
   ]
  },
  {
   "cell_type": "code",
   "execution_count": 19,
   "id": "95aeb327",
   "metadata": {},
   "outputs": [
    {
     "data": {
      "text/plain": [
       "0.928"
      ]
     },
     "execution_count": 19,
     "metadata": {},
     "output_type": "execute_result"
    }
   ],
   "source": [
    "randAccuracy = accuracy_score(y_true = y_test, y_pred = pred)\n",
    "randAccuracy"
   ]
  },
  {
   "cell_type": "markdown",
   "id": "0358bb71",
   "metadata": {},
   "source": [
    "# Extra Trees"
   ]
  },
  {
   "cell_type": "code",
   "execution_count": 24,
   "id": "b4729eec",
   "metadata": {},
   "outputs": [],
   "source": [
    "from sklearn.model_selection import RandomizedSearchCV\n",
    "extT = ExtraTreesClassifier(random_state = 1).fit(scaled_train,y_train)\n",
    "pred_1 = extT.predict(scaled_test)"
   ]
  },
  {
   "cell_type": "code",
   "execution_count": 20,
   "id": "d0be32da",
   "metadata": {},
   "outputs": [
    {
     "data": {
      "text/plain": [
       "0.926"
      ]
     },
     "execution_count": 20,
     "metadata": {},
     "output_type": "execute_result"
    }
   ],
   "source": [
    "rndAccuracy = accuracy_score(y_true = y_test, y_pred = pred_1)\n",
    "rndAccuracy"
   ]
  },
  {
   "cell_type": "markdown",
   "id": "44cddda3",
   "metadata": {},
   "source": [
    "### Question 2"
   ]
  },
  {
   "cell_type": "code",
   "execution_count": 30,
   "id": "46c396a9",
   "metadata": {},
   "outputs": [],
   "source": [
    "n_estimators = [int(x) for x in np.linspace(start = 1, stop = 20, num = 20)]\n",
    "max_features = ['auto', 'sqrt']\n",
    "max_depth = [int(x) for x in np.linspace(10, 120, num = 12)]\n",
    "min_samples_split = [2,6,10]\n",
    "min_samples_leaf = [1,3,4]\n",
    "bootstrap = [True, False]"
   ]
  },
  {
   "cell_type": "code",
   "execution_count": 31,
   "id": "dda86b3c",
   "metadata": {},
   "outputs": [],
   "source": [
    "random_grid = {'n_estimators': n_estimators, 'max_features': max_features, 'max_depth':max_depth,'min_samples_split':min_samples_split, 'min_samples_leaf':min_samples_leaf, 'bootstrap':bootstrap}"
   ]
  },
  {
   "cell_type": "code",
   "execution_count": 34,
   "id": "2126425b",
   "metadata": {},
   "outputs": [
    {
     "name": "stdout",
     "output_type": "stream",
     "text": [
      "Fitting 5 folds for each of 100 candidates, totalling 500 fits\n"
     ]
    }
   ],
   "source": [
    "rf_random = RandomizedSearchCV(estimator = extT, param_distributions = random_grid, n_iter = 100, cv = 5, verbose = 2, random_state = 1, n_jobs = -1).fit(scaled_train,y_train)"
   ]
  },
  {
   "cell_type": "code",
   "execution_count": 35,
   "id": "ec844cb5",
   "metadata": {},
   "outputs": [],
   "source": [
    "pred_3 = rf_random.predict(scaled_test)"
   ]
  },
  {
   "cell_type": "code",
   "execution_count": 36,
   "id": "44a3a2e9",
   "metadata": {},
   "outputs": [
    {
     "data": {
      "text/plain": [
       "0.904"
      ]
     },
     "execution_count": 36,
     "metadata": {},
     "output_type": "execute_result"
    }
   ],
   "source": [
    "HAccuracy = accuracy_score(y_true = y_test, y_pred = pred_3)\n",
    "HAccuracy"
   ]
  },
  {
   "cell_type": "markdown",
   "id": "dc52782b",
   "metadata": {},
   "source": [
    "### Question 13"
   ]
  },
  {
   "cell_type": "code",
   "execution_count": 44,
   "id": "fc9c0be6",
   "metadata": {},
   "outputs": [
    {
     "name": "stdout",
     "output_type": "stream",
     "text": [
      "Fitting 5 folds for each of 10 candidates, totalling 50 fits\n"
     ]
    },
    {
     "name": "stderr",
     "output_type": "stream",
     "text": [
      "C:\\Users\\USER\\AppData\\Roaming\\Python\\Python39\\site-packages\\sklearn\\ensemble\\_forest.py:427: FutureWarning: `max_features='auto'` has been deprecated in 1.1 and will be removed in 1.3. To keep the past behaviour, explicitly set `max_features='sqrt'` or remove this parameter as it is also the default value for RandomForestClassifiers and ExtraTreesClassifiers.\n",
      "  warn(\n"
     ]
    }
   ],
   "source": [
    "rf_randm = RandomizedSearchCV(estimator = extT, param_distributions = random_grid,scoring = 'accuracy', n_iter = 10, cv = 5, verbose = 1, random_state = 1, n_jobs = -1).fit(scaled_train,y_train)"
   ]
  },
  {
   "cell_type": "code",
   "execution_count": 45,
   "id": "22fdabad",
   "metadata": {},
   "outputs": [
    {
     "data": {
      "text/plain": [
       "{'n_estimators': 17,\n",
       " 'min_samples_split': 2,\n",
       " 'min_samples_leaf': 1,\n",
       " 'max_features': 'auto',\n",
       " 'max_depth': 30,\n",
       " 'bootstrap': False}"
      ]
     },
     "execution_count": 45,
     "metadata": {},
     "output_type": "execute_result"
    }
   ],
   "source": [
    "rf_randm.best_params_"
   ]
  },
  {
   "cell_type": "code",
   "execution_count": 52,
   "id": "cc0ddda8",
   "metadata": {},
   "outputs": [],
   "source": [
    "from sklearn.feature_extraction.text import CountVectorizer"
   ]
  },
  {
   "cell_type": "code",
   "execution_count": 57,
   "id": "b2403fdf",
   "metadata": {},
   "outputs": [],
   "source": [
    "import statsmodels.formula.api as smf"
   ]
  },
  {
   "cell_type": "code",
   "execution_count": 55,
   "id": "9fb74c61",
   "metadata": {},
   "outputs": [],
   "source": [
    "features = x_train.columns"
   ]
  },
  {
   "cell_type": "code",
   "execution_count": 62,
   "id": "03b4f5f2",
   "metadata": {},
   "outputs": [
    {
     "ename": "AttributeError",
     "evalue": "'RandomizedSearchCV' object has no attribute 'feature_importances_'",
     "output_type": "error",
     "traceback": [
      "\u001b[1;31m---------------------------------------------------------------------------\u001b[0m",
      "\u001b[1;31mAttributeError\u001b[0m                            Traceback (most recent call last)",
      "Input \u001b[1;32mIn [62]\u001b[0m, in \u001b[0;36m<cell line: 1>\u001b[1;34m()\u001b[0m\n\u001b[1;32m----> 1\u001b[0m feature_importance \u001b[38;5;241m=\u001b[39m \u001b[43mrf_randm\u001b[49m\u001b[38;5;241;43m.\u001b[39;49m\u001b[43mfeature_importances_\u001b[49m\n",
      "\u001b[1;31mAttributeError\u001b[0m: 'RandomizedSearchCV' object has no attribute 'feature_importances_'"
     ]
    }
   ],
   "source": [
    "feature_importance = rf_randm.feature_importances_"
   ]
  },
  {
   "cell_type": "markdown",
   "id": "e03a892d",
   "metadata": {},
   "source": [
    "# XGBoost"
   ]
  },
  {
   "cell_type": "code",
   "execution_count": 15,
   "id": "9da34d6a",
   "metadata": {},
   "outputs": [],
   "source": [
    "XGB = XGBClassifier(random_state = 1).fit(scaled_train,y_train)\n",
    "pred_2 = XGB.predict(scaled_test)"
   ]
  },
  {
   "cell_type": "code",
   "execution_count": 23,
   "id": "d4531793",
   "metadata": {},
   "outputs": [
    {
     "data": {
      "text/plain": [
       "0.946"
      ]
     },
     "execution_count": 23,
     "metadata": {},
     "output_type": "execute_result"
    }
   ],
   "source": [
    "rdAccuracy = accuracy_score(y_true = y_test, y_pred = pred_2)\n",
    "rdAccuracy"
   ]
  },
  {
   "cell_type": "markdown",
   "id": "5ed57721",
   "metadata": {},
   "source": [
    "# Light Boost"
   ]
  },
  {
   "cell_type": "code",
   "execution_count": 18,
   "id": "ef22bd77",
   "metadata": {},
   "outputs": [],
   "source": [
    "LGBM= LGBMClassifier(random_state = 1).fit(scaled_train,y_train)\n",
    "pred_3 = LGBM.predict(scaled_test)"
   ]
  },
  {
   "cell_type": "code",
   "execution_count": 22,
   "id": "612883a6",
   "metadata": {},
   "outputs": [
    {
     "data": {
      "text/plain": [
       "0.9365"
      ]
     },
     "execution_count": 22,
     "metadata": {},
     "output_type": "execute_result"
    }
   ],
   "source": [
    "radAccuracy = accuracy_score(y_true = y_test, y_pred = pred_3)\n",
    "radAccuracy"
   ]
  }
 ],
 "metadata": {
  "kernelspec": {
   "display_name": "Python 3 (ipykernel)",
   "language": "python",
   "name": "python3"
  },
  "language_info": {
   "codemirror_mode": {
    "name": "ipython",
    "version": 3
   },
   "file_extension": ".py",
   "mimetype": "text/x-python",
   "name": "python",
   "nbconvert_exporter": "python",
   "pygments_lexer": "ipython3",
   "version": "3.9.12"
  }
 },
 "nbformat": 4,
 "nbformat_minor": 5
}
