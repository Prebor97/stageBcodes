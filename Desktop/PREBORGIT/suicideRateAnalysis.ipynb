{
 "cells": [
  {
   "cell_type": "code",
   "execution_count": 1,
   "id": "28a66716",
   "metadata": {},
   "outputs": [],
   "source": [
    "import pandas as pd\n",
    "import numpy as np\n",
    "suicide_data = pd.read_csv('master.csv')"
   ]
  },
  {
   "cell_type": "code",
   "execution_count": 3,
   "id": "e6890192",
   "metadata": {},
   "outputs": [
    {
     "name": "stdout",
     "output_type": "stream",
     "text": [
      "<class 'pandas.core.frame.DataFrame'>\n",
      "RangeIndex: 27820 entries, 0 to 27819\n",
      "Data columns (total 12 columns):\n",
      " #   Column              Non-Null Count  Dtype  \n",
      "---  ------              --------------  -----  \n",
      " 0   country             27820 non-null  object \n",
      " 1   year                27820 non-null  int64  \n",
      " 2   sex                 27820 non-null  object \n",
      " 3   age                 27820 non-null  object \n",
      " 4   suicides_no         27820 non-null  int64  \n",
      " 5   population          27820 non-null  int64  \n",
      " 6   suicides/100k pop   27820 non-null  float64\n",
      " 7   country-year        27820 non-null  object \n",
      " 8   HDI for year        8364 non-null   float64\n",
      " 9    gdp_for_year ($)   27820 non-null  object \n",
      " 10  gdp_per_capita ($)  27820 non-null  int64  \n",
      " 11  generation          27820 non-null  object \n",
      "dtypes: float64(2), int64(4), object(6)\n",
      "memory usage: 2.5+ MB\n"
     ]
    }
   ],
   "source": [
    "suicide_data.info()"
   ]
  },
  {
   "cell_type": "code",
   "execution_count": 4,
   "id": "f1c1a8b7",
   "metadata": {},
   "outputs": [
    {
     "data": {
      "text/html": [
       "<div>\n",
       "<style scoped>\n",
       "    .dataframe tbody tr th:only-of-type {\n",
       "        vertical-align: middle;\n",
       "    }\n",
       "\n",
       "    .dataframe tbody tr th {\n",
       "        vertical-align: top;\n",
       "    }\n",
       "\n",
       "    .dataframe thead th {\n",
       "        text-align: right;\n",
       "    }\n",
       "</style>\n",
       "<table border=\"1\" class=\"dataframe\">\n",
       "  <thead>\n",
       "    <tr style=\"text-align: right;\">\n",
       "      <th></th>\n",
       "      <th>year</th>\n",
       "      <th>suicides_no</th>\n",
       "      <th>population</th>\n",
       "      <th>suicides/100k pop</th>\n",
       "      <th>HDI for year</th>\n",
       "      <th>gdp_per_capita ($)</th>\n",
       "    </tr>\n",
       "  </thead>\n",
       "  <tbody>\n",
       "    <tr>\n",
       "      <th>count</th>\n",
       "      <td>27820.000000</td>\n",
       "      <td>27820.000000</td>\n",
       "      <td>2.782000e+04</td>\n",
       "      <td>27820.000000</td>\n",
       "      <td>8364.000000</td>\n",
       "      <td>27820.000000</td>\n",
       "    </tr>\n",
       "    <tr>\n",
       "      <th>mean</th>\n",
       "      <td>2001.258375</td>\n",
       "      <td>242.574407</td>\n",
       "      <td>1.844794e+06</td>\n",
       "      <td>12.816097</td>\n",
       "      <td>0.776601</td>\n",
       "      <td>16866.464414</td>\n",
       "    </tr>\n",
       "    <tr>\n",
       "      <th>std</th>\n",
       "      <td>8.469055</td>\n",
       "      <td>902.047917</td>\n",
       "      <td>3.911779e+06</td>\n",
       "      <td>18.961511</td>\n",
       "      <td>0.093367</td>\n",
       "      <td>18887.576472</td>\n",
       "    </tr>\n",
       "    <tr>\n",
       "      <th>min</th>\n",
       "      <td>1985.000000</td>\n",
       "      <td>0.000000</td>\n",
       "      <td>2.780000e+02</td>\n",
       "      <td>0.000000</td>\n",
       "      <td>0.483000</td>\n",
       "      <td>251.000000</td>\n",
       "    </tr>\n",
       "    <tr>\n",
       "      <th>25%</th>\n",
       "      <td>1995.000000</td>\n",
       "      <td>3.000000</td>\n",
       "      <td>9.749850e+04</td>\n",
       "      <td>0.920000</td>\n",
       "      <td>0.713000</td>\n",
       "      <td>3447.000000</td>\n",
       "    </tr>\n",
       "    <tr>\n",
       "      <th>50%</th>\n",
       "      <td>2002.000000</td>\n",
       "      <td>25.000000</td>\n",
       "      <td>4.301500e+05</td>\n",
       "      <td>5.990000</td>\n",
       "      <td>0.779000</td>\n",
       "      <td>9372.000000</td>\n",
       "    </tr>\n",
       "    <tr>\n",
       "      <th>75%</th>\n",
       "      <td>2008.000000</td>\n",
       "      <td>131.000000</td>\n",
       "      <td>1.486143e+06</td>\n",
       "      <td>16.620000</td>\n",
       "      <td>0.855000</td>\n",
       "      <td>24874.000000</td>\n",
       "    </tr>\n",
       "    <tr>\n",
       "      <th>max</th>\n",
       "      <td>2016.000000</td>\n",
       "      <td>22338.000000</td>\n",
       "      <td>4.380521e+07</td>\n",
       "      <td>224.970000</td>\n",
       "      <td>0.944000</td>\n",
       "      <td>126352.000000</td>\n",
       "    </tr>\n",
       "  </tbody>\n",
       "</table>\n",
       "</div>"
      ],
      "text/plain": [
       "               year   suicides_no    population  suicides/100k pop  \\\n",
       "count  27820.000000  27820.000000  2.782000e+04       27820.000000   \n",
       "mean    2001.258375    242.574407  1.844794e+06          12.816097   \n",
       "std        8.469055    902.047917  3.911779e+06          18.961511   \n",
       "min     1985.000000      0.000000  2.780000e+02           0.000000   \n",
       "25%     1995.000000      3.000000  9.749850e+04           0.920000   \n",
       "50%     2002.000000     25.000000  4.301500e+05           5.990000   \n",
       "75%     2008.000000    131.000000  1.486143e+06          16.620000   \n",
       "max     2016.000000  22338.000000  4.380521e+07         224.970000   \n",
       "\n",
       "       HDI for year  gdp_per_capita ($)  \n",
       "count   8364.000000        27820.000000  \n",
       "mean       0.776601        16866.464414  \n",
       "std        0.093367        18887.576472  \n",
       "min        0.483000          251.000000  \n",
       "25%        0.713000         3447.000000  \n",
       "50%        0.779000         9372.000000  \n",
       "75%        0.855000        24874.000000  \n",
       "max        0.944000       126352.000000  "
      ]
     },
     "execution_count": 4,
     "metadata": {},
     "output_type": "execute_result"
    }
   ],
   "source": [
    "suicide_data.describe()"
   ]
  },
  {
   "cell_type": "code",
   "execution_count": 5,
   "id": "0a4d4fd2",
   "metadata": {},
   "outputs": [
    {
     "data": {
      "text/html": [
       "<div>\n",
       "<style scoped>\n",
       "    .dataframe tbody tr th:only-of-type {\n",
       "        vertical-align: middle;\n",
       "    }\n",
       "\n",
       "    .dataframe tbody tr th {\n",
       "        vertical-align: top;\n",
       "    }\n",
       "\n",
       "    .dataframe thead th {\n",
       "        text-align: right;\n",
       "    }\n",
       "</style>\n",
       "<table border=\"1\" class=\"dataframe\">\n",
       "  <thead>\n",
       "    <tr style=\"text-align: right;\">\n",
       "      <th></th>\n",
       "      <th>country</th>\n",
       "      <th>year</th>\n",
       "      <th>sex</th>\n",
       "      <th>age</th>\n",
       "      <th>suicides_no</th>\n",
       "      <th>population</th>\n",
       "      <th>suicides/100k pop</th>\n",
       "      <th>country-year</th>\n",
       "      <th>HDI for year</th>\n",
       "      <th>gdp_for_year ($)</th>\n",
       "      <th>gdp_per_capita ($)</th>\n",
       "      <th>generation</th>\n",
       "    </tr>\n",
       "  </thead>\n",
       "  <tbody>\n",
       "    <tr>\n",
       "      <th>0</th>\n",
       "      <td>False</td>\n",
       "      <td>False</td>\n",
       "      <td>False</td>\n",
       "      <td>False</td>\n",
       "      <td>False</td>\n",
       "      <td>False</td>\n",
       "      <td>False</td>\n",
       "      <td>False</td>\n",
       "      <td>True</td>\n",
       "      <td>False</td>\n",
       "      <td>False</td>\n",
       "      <td>False</td>\n",
       "    </tr>\n",
       "    <tr>\n",
       "      <th>1</th>\n",
       "      <td>False</td>\n",
       "      <td>False</td>\n",
       "      <td>False</td>\n",
       "      <td>False</td>\n",
       "      <td>False</td>\n",
       "      <td>False</td>\n",
       "      <td>False</td>\n",
       "      <td>False</td>\n",
       "      <td>True</td>\n",
       "      <td>False</td>\n",
       "      <td>False</td>\n",
       "      <td>False</td>\n",
       "    </tr>\n",
       "    <tr>\n",
       "      <th>2</th>\n",
       "      <td>False</td>\n",
       "      <td>False</td>\n",
       "      <td>False</td>\n",
       "      <td>False</td>\n",
       "      <td>False</td>\n",
       "      <td>False</td>\n",
       "      <td>False</td>\n",
       "      <td>False</td>\n",
       "      <td>True</td>\n",
       "      <td>False</td>\n",
       "      <td>False</td>\n",
       "      <td>False</td>\n",
       "    </tr>\n",
       "    <tr>\n",
       "      <th>3</th>\n",
       "      <td>False</td>\n",
       "      <td>False</td>\n",
       "      <td>False</td>\n",
       "      <td>False</td>\n",
       "      <td>False</td>\n",
       "      <td>False</td>\n",
       "      <td>False</td>\n",
       "      <td>False</td>\n",
       "      <td>True</td>\n",
       "      <td>False</td>\n",
       "      <td>False</td>\n",
       "      <td>False</td>\n",
       "    </tr>\n",
       "    <tr>\n",
       "      <th>4</th>\n",
       "      <td>False</td>\n",
       "      <td>False</td>\n",
       "      <td>False</td>\n",
       "      <td>False</td>\n",
       "      <td>False</td>\n",
       "      <td>False</td>\n",
       "      <td>False</td>\n",
       "      <td>False</td>\n",
       "      <td>True</td>\n",
       "      <td>False</td>\n",
       "      <td>False</td>\n",
       "      <td>False</td>\n",
       "    </tr>\n",
       "    <tr>\n",
       "      <th>...</th>\n",
       "      <td>...</td>\n",
       "      <td>...</td>\n",
       "      <td>...</td>\n",
       "      <td>...</td>\n",
       "      <td>...</td>\n",
       "      <td>...</td>\n",
       "      <td>...</td>\n",
       "      <td>...</td>\n",
       "      <td>...</td>\n",
       "      <td>...</td>\n",
       "      <td>...</td>\n",
       "      <td>...</td>\n",
       "    </tr>\n",
       "    <tr>\n",
       "      <th>27815</th>\n",
       "      <td>False</td>\n",
       "      <td>False</td>\n",
       "      <td>False</td>\n",
       "      <td>False</td>\n",
       "      <td>False</td>\n",
       "      <td>False</td>\n",
       "      <td>False</td>\n",
       "      <td>False</td>\n",
       "      <td>False</td>\n",
       "      <td>False</td>\n",
       "      <td>False</td>\n",
       "      <td>False</td>\n",
       "    </tr>\n",
       "    <tr>\n",
       "      <th>27816</th>\n",
       "      <td>False</td>\n",
       "      <td>False</td>\n",
       "      <td>False</td>\n",
       "      <td>False</td>\n",
       "      <td>False</td>\n",
       "      <td>False</td>\n",
       "      <td>False</td>\n",
       "      <td>False</td>\n",
       "      <td>False</td>\n",
       "      <td>False</td>\n",
       "      <td>False</td>\n",
       "      <td>False</td>\n",
       "    </tr>\n",
       "    <tr>\n",
       "      <th>27817</th>\n",
       "      <td>False</td>\n",
       "      <td>False</td>\n",
       "      <td>False</td>\n",
       "      <td>False</td>\n",
       "      <td>False</td>\n",
       "      <td>False</td>\n",
       "      <td>False</td>\n",
       "      <td>False</td>\n",
       "      <td>False</td>\n",
       "      <td>False</td>\n",
       "      <td>False</td>\n",
       "      <td>False</td>\n",
       "    </tr>\n",
       "    <tr>\n",
       "      <th>27818</th>\n",
       "      <td>False</td>\n",
       "      <td>False</td>\n",
       "      <td>False</td>\n",
       "      <td>False</td>\n",
       "      <td>False</td>\n",
       "      <td>False</td>\n",
       "      <td>False</td>\n",
       "      <td>False</td>\n",
       "      <td>False</td>\n",
       "      <td>False</td>\n",
       "      <td>False</td>\n",
       "      <td>False</td>\n",
       "    </tr>\n",
       "    <tr>\n",
       "      <th>27819</th>\n",
       "      <td>False</td>\n",
       "      <td>False</td>\n",
       "      <td>False</td>\n",
       "      <td>False</td>\n",
       "      <td>False</td>\n",
       "      <td>False</td>\n",
       "      <td>False</td>\n",
       "      <td>False</td>\n",
       "      <td>False</td>\n",
       "      <td>False</td>\n",
       "      <td>False</td>\n",
       "      <td>False</td>\n",
       "    </tr>\n",
       "  </tbody>\n",
       "</table>\n",
       "<p>27820 rows × 12 columns</p>\n",
       "</div>"
      ],
      "text/plain": [
       "       country   year    sex    age  suicides_no  population  \\\n",
       "0        False  False  False  False        False       False   \n",
       "1        False  False  False  False        False       False   \n",
       "2        False  False  False  False        False       False   \n",
       "3        False  False  False  False        False       False   \n",
       "4        False  False  False  False        False       False   \n",
       "...        ...    ...    ...    ...          ...         ...   \n",
       "27815    False  False  False  False        False       False   \n",
       "27816    False  False  False  False        False       False   \n",
       "27817    False  False  False  False        False       False   \n",
       "27818    False  False  False  False        False       False   \n",
       "27819    False  False  False  False        False       False   \n",
       "\n",
       "       suicides/100k pop  country-year  HDI for year   gdp_for_year ($)   \\\n",
       "0                  False         False          True               False   \n",
       "1                  False         False          True               False   \n",
       "2                  False         False          True               False   \n",
       "3                  False         False          True               False   \n",
       "4                  False         False          True               False   \n",
       "...                  ...           ...           ...                 ...   \n",
       "27815              False         False         False               False   \n",
       "27816              False         False         False               False   \n",
       "27817              False         False         False               False   \n",
       "27818              False         False         False               False   \n",
       "27819              False         False         False               False   \n",
       "\n",
       "       gdp_per_capita ($)  generation  \n",
       "0                   False       False  \n",
       "1                   False       False  \n",
       "2                   False       False  \n",
       "3                   False       False  \n",
       "4                   False       False  \n",
       "...                   ...         ...  \n",
       "27815               False       False  \n",
       "27816               False       False  \n",
       "27817               False       False  \n",
       "27818               False       False  \n",
       "27819               False       False  \n",
       "\n",
       "[27820 rows x 12 columns]"
      ]
     },
     "execution_count": 5,
     "metadata": {},
     "output_type": "execute_result"
    }
   ],
   "source": [
    "suicide_data.isnull()"
   ]
  },
  {
   "cell_type": "code",
   "execution_count": 10,
   "id": "993b86c1",
   "metadata": {},
   "outputs": [
    {
     "name": "stdout",
     "output_type": "stream",
     "text": [
      "   country  year     sex          age  suicides_no  population  \\\n",
      "0  Albania  1987    male  15-24 years           21      312900   \n",
      "1  Albania  1987    male  35-54 years           16      308000   \n",
      "2  Albania  1987  female  15-24 years           14      289700   \n",
      "3  Albania  1987    male    75+ years            1       21800   \n",
      "4  Albania  1987    male  25-34 years            9      274300   \n",
      "5  Albania  1987  female    75+ years            1       35600   \n",
      "6  Albania  1987  female  35-54 years            6      278800   \n",
      "7  Albania  1987  female  25-34 years            4      257200   \n",
      "8  Albania  1987    male  55-74 years            1      137500   \n",
      "9  Albania  1987  female   5-14 years            0      311000   \n",
      "\n",
      "   suicides/100k pop country-year  HDI for year  gdp_for_year ($)   \\\n",
      "0               6.71  Albania1987           NaN      2,156,624,900   \n",
      "1               5.19  Albania1987           NaN      2,156,624,900   \n",
      "2               4.83  Albania1987           NaN      2,156,624,900   \n",
      "3               4.59  Albania1987           NaN      2,156,624,900   \n",
      "4               3.28  Albania1987           NaN      2,156,624,900   \n",
      "5               2.81  Albania1987           NaN      2,156,624,900   \n",
      "6               2.15  Albania1987           NaN      2,156,624,900   \n",
      "7               1.56  Albania1987           NaN      2,156,624,900   \n",
      "8               0.73  Albania1987           NaN      2,156,624,900   \n",
      "9               0.00  Albania1987           NaN      2,156,624,900   \n",
      "\n",
      "   gdp_per_capita ($)       generation  \n",
      "0                 796     Generation X  \n",
      "1                 796           Silent  \n",
      "2                 796     Generation X  \n",
      "3                 796  G.I. Generation  \n",
      "4                 796          Boomers  \n",
      "5                 796  G.I. Generation  \n",
      "6                 796           Silent  \n",
      "7                 796          Boomers  \n",
      "8                 796  G.I. Generation  \n",
      "9                 796     Generation X  \n"
     ]
    }
   ],
   "source": [
    "print(suicide_data.head(10))"
   ]
  },
  {
   "cell_type": "code",
   "execution_count": 33,
   "id": "a0e2cdac",
   "metadata": {},
   "outputs": [
    {
     "data": {
      "text/html": [
       "<div>\n",
       "<style scoped>\n",
       "    .dataframe tbody tr th:only-of-type {\n",
       "        vertical-align: middle;\n",
       "    }\n",
       "\n",
       "    .dataframe tbody tr th {\n",
       "        vertical-align: top;\n",
       "    }\n",
       "\n",
       "    .dataframe thead th {\n",
       "        text-align: right;\n",
       "    }\n",
       "</style>\n",
       "<table border=\"1\" class=\"dataframe\">\n",
       "  <thead>\n",
       "    <tr style=\"text-align: right;\">\n",
       "      <th></th>\n",
       "      <th>country</th>\n",
       "      <th>year</th>\n",
       "      <th>sex</th>\n",
       "      <th>age</th>\n",
       "      <th>suicides_no</th>\n",
       "      <th>population</th>\n",
       "      <th>suicides/100k pop</th>\n",
       "      <th>country-year</th>\n",
       "      <th>HDI for year</th>\n",
       "      <th>gdp_for_year ($)</th>\n",
       "      <th>gdp_per_capita ($)</th>\n",
       "      <th>generation</th>\n",
       "    </tr>\n",
       "  </thead>\n",
       "  <tbody>\n",
       "    <tr>\n",
       "      <th>27810</th>\n",
       "      <td>Uzbekistan</td>\n",
       "      <td>2014</td>\n",
       "      <td>female</td>\n",
       "      <td>15-24 years</td>\n",
       "      <td>347</td>\n",
       "      <td>2992817</td>\n",
       "      <td>11.59</td>\n",
       "      <td>Uzbekistan2014</td>\n",
       "      <td>0.675</td>\n",
       "      <td>63,067,077,179</td>\n",
       "      <td>2309</td>\n",
       "      <td>Millenials</td>\n",
       "    </tr>\n",
       "    <tr>\n",
       "      <th>27811</th>\n",
       "      <td>Uzbekistan</td>\n",
       "      <td>2014</td>\n",
       "      <td>male</td>\n",
       "      <td>55-74 years</td>\n",
       "      <td>144</td>\n",
       "      <td>1271111</td>\n",
       "      <td>11.33</td>\n",
       "      <td>Uzbekistan2014</td>\n",
       "      <td>0.675</td>\n",
       "      <td>63,067,077,179</td>\n",
       "      <td>2309</td>\n",
       "      <td>Boomers</td>\n",
       "    </tr>\n",
       "    <tr>\n",
       "      <th>27812</th>\n",
       "      <td>Uzbekistan</td>\n",
       "      <td>2014</td>\n",
       "      <td>male</td>\n",
       "      <td>15-24 years</td>\n",
       "      <td>347</td>\n",
       "      <td>3126905</td>\n",
       "      <td>11.10</td>\n",
       "      <td>Uzbekistan2014</td>\n",
       "      <td>0.675</td>\n",
       "      <td>63,067,077,179</td>\n",
       "      <td>2309</td>\n",
       "      <td>Millenials</td>\n",
       "    </tr>\n",
       "    <tr>\n",
       "      <th>27813</th>\n",
       "      <td>Uzbekistan</td>\n",
       "      <td>2014</td>\n",
       "      <td>male</td>\n",
       "      <td>75+ years</td>\n",
       "      <td>17</td>\n",
       "      <td>224995</td>\n",
       "      <td>7.56</td>\n",
       "      <td>Uzbekistan2014</td>\n",
       "      <td>0.675</td>\n",
       "      <td>63,067,077,179</td>\n",
       "      <td>2309</td>\n",
       "      <td>Silent</td>\n",
       "    </tr>\n",
       "    <tr>\n",
       "      <th>27814</th>\n",
       "      <td>Uzbekistan</td>\n",
       "      <td>2014</td>\n",
       "      <td>female</td>\n",
       "      <td>25-34 years</td>\n",
       "      <td>162</td>\n",
       "      <td>2735238</td>\n",
       "      <td>5.92</td>\n",
       "      <td>Uzbekistan2014</td>\n",
       "      <td>0.675</td>\n",
       "      <td>63,067,077,179</td>\n",
       "      <td>2309</td>\n",
       "      <td>Millenials</td>\n",
       "    </tr>\n",
       "    <tr>\n",
       "      <th>27815</th>\n",
       "      <td>Uzbekistan</td>\n",
       "      <td>2014</td>\n",
       "      <td>female</td>\n",
       "      <td>35-54 years</td>\n",
       "      <td>107</td>\n",
       "      <td>3620833</td>\n",
       "      <td>2.96</td>\n",
       "      <td>Uzbekistan2014</td>\n",
       "      <td>0.675</td>\n",
       "      <td>63,067,077,179</td>\n",
       "      <td>2309</td>\n",
       "      <td>Generation X</td>\n",
       "    </tr>\n",
       "    <tr>\n",
       "      <th>27816</th>\n",
       "      <td>Uzbekistan</td>\n",
       "      <td>2014</td>\n",
       "      <td>female</td>\n",
       "      <td>75+ years</td>\n",
       "      <td>9</td>\n",
       "      <td>348465</td>\n",
       "      <td>2.58</td>\n",
       "      <td>Uzbekistan2014</td>\n",
       "      <td>0.675</td>\n",
       "      <td>63,067,077,179</td>\n",
       "      <td>2309</td>\n",
       "      <td>Silent</td>\n",
       "    </tr>\n",
       "    <tr>\n",
       "      <th>27817</th>\n",
       "      <td>Uzbekistan</td>\n",
       "      <td>2014</td>\n",
       "      <td>male</td>\n",
       "      <td>5-14 years</td>\n",
       "      <td>60</td>\n",
       "      <td>2762158</td>\n",
       "      <td>2.17</td>\n",
       "      <td>Uzbekistan2014</td>\n",
       "      <td>0.675</td>\n",
       "      <td>63,067,077,179</td>\n",
       "      <td>2309</td>\n",
       "      <td>Generation Z</td>\n",
       "    </tr>\n",
       "    <tr>\n",
       "      <th>27818</th>\n",
       "      <td>Uzbekistan</td>\n",
       "      <td>2014</td>\n",
       "      <td>female</td>\n",
       "      <td>5-14 years</td>\n",
       "      <td>44</td>\n",
       "      <td>2631600</td>\n",
       "      <td>1.67</td>\n",
       "      <td>Uzbekistan2014</td>\n",
       "      <td>0.675</td>\n",
       "      <td>63,067,077,179</td>\n",
       "      <td>2309</td>\n",
       "      <td>Generation Z</td>\n",
       "    </tr>\n",
       "    <tr>\n",
       "      <th>27819</th>\n",
       "      <td>Uzbekistan</td>\n",
       "      <td>2014</td>\n",
       "      <td>female</td>\n",
       "      <td>55-74 years</td>\n",
       "      <td>21</td>\n",
       "      <td>1438935</td>\n",
       "      <td>1.46</td>\n",
       "      <td>Uzbekistan2014</td>\n",
       "      <td>0.675</td>\n",
       "      <td>63,067,077,179</td>\n",
       "      <td>2309</td>\n",
       "      <td>Boomers</td>\n",
       "    </tr>\n",
       "  </tbody>\n",
       "</table>\n",
       "</div>"
      ],
      "text/plain": [
       "          country  year     sex          age  suicides_no  population  \\\n",
       "27810  Uzbekistan  2014  female  15-24 years          347     2992817   \n",
       "27811  Uzbekistan  2014    male  55-74 years          144     1271111   \n",
       "27812  Uzbekistan  2014    male  15-24 years          347     3126905   \n",
       "27813  Uzbekistan  2014    male    75+ years           17      224995   \n",
       "27814  Uzbekistan  2014  female  25-34 years          162     2735238   \n",
       "27815  Uzbekistan  2014  female  35-54 years          107     3620833   \n",
       "27816  Uzbekistan  2014  female    75+ years            9      348465   \n",
       "27817  Uzbekistan  2014    male   5-14 years           60     2762158   \n",
       "27818  Uzbekistan  2014  female   5-14 years           44     2631600   \n",
       "27819  Uzbekistan  2014  female  55-74 years           21     1438935   \n",
       "\n",
       "       suicides/100k pop    country-year  HDI for year  gdp_for_year ($)   \\\n",
       "27810              11.59  Uzbekistan2014         0.675     63,067,077,179   \n",
       "27811              11.33  Uzbekistan2014         0.675     63,067,077,179   \n",
       "27812              11.10  Uzbekistan2014         0.675     63,067,077,179   \n",
       "27813               7.56  Uzbekistan2014         0.675     63,067,077,179   \n",
       "27814               5.92  Uzbekistan2014         0.675     63,067,077,179   \n",
       "27815               2.96  Uzbekistan2014         0.675     63,067,077,179   \n",
       "27816               2.58  Uzbekistan2014         0.675     63,067,077,179   \n",
       "27817               2.17  Uzbekistan2014         0.675     63,067,077,179   \n",
       "27818               1.67  Uzbekistan2014         0.675     63,067,077,179   \n",
       "27819               1.46  Uzbekistan2014         0.675     63,067,077,179   \n",
       "\n",
       "       gdp_per_capita ($)    generation  \n",
       "27810                2309    Millenials  \n",
       "27811                2309       Boomers  \n",
       "27812                2309    Millenials  \n",
       "27813                2309        Silent  \n",
       "27814                2309    Millenials  \n",
       "27815                2309  Generation X  \n",
       "27816                2309        Silent  \n",
       "27817                2309  Generation Z  \n",
       "27818                2309  Generation Z  \n",
       "27819                2309       Boomers  "
      ]
     },
     "execution_count": 33,
     "metadata": {},
     "output_type": "execute_result"
    }
   ],
   "source": [
    "suicide_data.tail(10)"
   ]
  },
  {
   "cell_type": "code",
   "execution_count": 15,
   "id": "688d9104",
   "metadata": {},
   "outputs": [
    {
     "data": {
      "text/plain": [
       "Mauritius                 382\n",
       "Austria                   382\n",
       "Netherlands               382\n",
       "Iceland                   382\n",
       "Brazil                    372\n",
       "                         ... \n",
       "Bosnia and Herzegovina     24\n",
       "Cabo Verde                 12\n",
       "Dominica                   12\n",
       "Macau                      12\n",
       "Mongolia                   10\n",
       "Name: country, Length: 101, dtype: int64"
      ]
     },
     "execution_count": 15,
     "metadata": {},
     "output_type": "execute_result"
    }
   ],
   "source": [
    "suicide_data['country'].value_counts()"
   ]
  },
  {
   "cell_type": "code",
   "execution_count": 16,
   "id": "ee5e62e1",
   "metadata": {},
   "outputs": [
    {
     "data": {
      "text/plain": [
       "242.57440690150972"
      ]
     },
     "execution_count": 16,
     "metadata": {},
     "output_type": "execute_result"
    }
   ],
   "source": [
    "suicide_data['suicides_no'].mean()"
   ]
  },
  {
   "cell_type": "code",
   "execution_count": 20,
   "id": "41e9fd88",
   "metadata": {
    "scrolled": true
   },
   "outputs": [
    {
     "ename": "TypeError",
     "evalue": "'method' object is not subscriptable",
     "output_type": "error",
     "traceback": [
      "\u001b[1;31m---------------------------------------------------------------------------\u001b[0m",
      "\u001b[1;31mTypeError\u001b[0m                                 Traceback (most recent call last)",
      "Input \u001b[1;32mIn [20]\u001b[0m, in \u001b[0;36m<cell line: 1>\u001b[1;34m()\u001b[0m\n\u001b[1;32m----> 1\u001b[0m \u001b[43msuicide_data\u001b[49m\u001b[38;5;241;43m.\u001b[39;49m\u001b[43mgroupby\u001b[49m\u001b[43m[\u001b[49m\u001b[38;5;124;43m'\u001b[39;49m\u001b[38;5;124;43mcountry\u001b[39;49m\u001b[38;5;124;43m'\u001b[39;49m\u001b[43m]\u001b[49m[\u001b[38;5;124m'\u001b[39m\u001b[38;5;124msuicides_no\u001b[39m\u001b[38;5;124m'\u001b[39m]\u001b[38;5;241m.\u001b[39mmean()\n",
      "\u001b[1;31mTypeError\u001b[0m: 'method' object is not subscriptable"
     ]
    }
   ],
   "source": [
    "suicide_data.groupby['country']['suicides_no'].mean()"
   ]
  },
  {
   "cell_type": "code",
   "execution_count": 32,
   "id": "4ceb32ec",
   "metadata": {},
   "outputs": [
    {
     "data": {
      "text/plain": [
       "6748420"
      ]
     },
     "execution_count": 32,
     "metadata": {},
     "output_type": "execute_result"
    }
   ],
   "source": [
    "suicide_data.suicides_no.sum()"
   ]
  },
  {
   "cell_type": "code",
   "execution_count": 23,
   "id": "c482149c",
   "metadata": {},
   "outputs": [
    {
     "data": {
      "text/plain": [
       "country\n",
       "Albania                    7.462121\n",
       "Antigua and Barbuda        0.033951\n",
       "Argentina                221.018817\n",
       "Armenia                    6.392617\n",
       "Aruba                      0.601190\n",
       "                           ...     \n",
       "United Arab Emirates       8.638889\n",
       "United Kingdom           367.755376\n",
       "United States           2779.604839\n",
       "Uruguay                   39.101190\n",
       "Uzbekistan               131.829545\n",
       "Name: suicides_no, Length: 101, dtype: float64"
      ]
     },
     "execution_count": 23,
     "metadata": {},
     "output_type": "execute_result"
    }
   ],
   "source": [
    "suicide_data.groupby('country').suicides_no.mean()"
   ]
  },
  {
   "cell_type": "code",
   "execution_count": 29,
   "id": "f8d39afa",
   "metadata": {},
   "outputs": [
    {
     "data": {
      "text/plain": [
       "True"
      ]
     },
     "execution_count": 29,
     "metadata": {},
     "output_type": "execute_result"
    }
   ],
   "source": [
    "(suicide_data['country'].eq('South Africa')).any()# I checked which country was present in the data"
   ]
  },
  {
   "cell_type": "code",
   "execution_count": 30,
   "id": "7870cd79",
   "metadata": {},
   "outputs": [
    {
     "data": {
      "text/plain": [
       "27820"
      ]
     },
     "execution_count": 30,
     "metadata": {},
     "output_type": "execute_result"
    }
   ],
   "source": [
    "suicide_data['country'].count()"
   ]
  },
  {
   "cell_type": "code",
   "execution_count": 31,
   "id": "f9d61052",
   "metadata": {},
   "outputs": [
    {
     "name": "stdout",
     "output_type": "stream",
     "text": [
      "country                 101\n",
      "year                     32\n",
      "sex                       2\n",
      "age                       6\n",
      "suicides_no            2084\n",
      "population            25564\n",
      "suicides/100k pop      5298\n",
      "country-year           2321\n",
      "HDI for year            305\n",
      " gdp_for_year ($)      2321\n",
      "gdp_per_capita ($)     2233\n",
      "generation                6\n",
      "dtype: int64\n"
     ]
    }
   ],
   "source": [
    "print(suicide_data.nunique())"
   ]
  },
  {
   "cell_type": "code",
   "execution_count": 36,
   "id": "02e72b85",
   "metadata": {},
   "outputs": [],
   "source": [
    "UK_data = suicide_data[suicide_data.country == 'United Kingdom']"
   ]
  },
  {
   "cell_type": "code",
   "execution_count": 37,
   "id": "872942e7",
   "metadata": {},
   "outputs": [
    {
     "data": {
      "text/html": [
       "<div>\n",
       "<style scoped>\n",
       "    .dataframe tbody tr th:only-of-type {\n",
       "        vertical-align: middle;\n",
       "    }\n",
       "\n",
       "    .dataframe tbody tr th {\n",
       "        vertical-align: top;\n",
       "    }\n",
       "\n",
       "    .dataframe thead th {\n",
       "        text-align: right;\n",
       "    }\n",
       "</style>\n",
       "<table border=\"1\" class=\"dataframe\">\n",
       "  <thead>\n",
       "    <tr style=\"text-align: right;\">\n",
       "      <th></th>\n",
       "      <th>country</th>\n",
       "      <th>year</th>\n",
       "      <th>sex</th>\n",
       "      <th>age</th>\n",
       "      <th>suicides_no</th>\n",
       "      <th>population</th>\n",
       "      <th>suicides/100k pop</th>\n",
       "      <th>country-year</th>\n",
       "      <th>HDI for year</th>\n",
       "      <th>gdp_for_year ($)</th>\n",
       "      <th>gdp_per_capita ($)</th>\n",
       "      <th>generation</th>\n",
       "    </tr>\n",
       "  </thead>\n",
       "  <tbody>\n",
       "    <tr>\n",
       "      <th>26476</th>\n",
       "      <td>United Kingdom</td>\n",
       "      <td>1985</td>\n",
       "      <td>male</td>\n",
       "      <td>75+ years</td>\n",
       "      <td>264</td>\n",
       "      <td>1202838</td>\n",
       "      <td>21.95</td>\n",
       "      <td>United Kingdom1985</td>\n",
       "      <td>0.753</td>\n",
       "      <td>489,285,164,271</td>\n",
       "      <td>9231</td>\n",
       "      <td>G.I. Generation</td>\n",
       "    </tr>\n",
       "    <tr>\n",
       "      <th>26477</th>\n",
       "      <td>United Kingdom</td>\n",
       "      <td>1985</td>\n",
       "      <td>male</td>\n",
       "      <td>55-74 years</td>\n",
       "      <td>915</td>\n",
       "      <td>5170113</td>\n",
       "      <td>17.70</td>\n",
       "      <td>United Kingdom1985</td>\n",
       "      <td>0.753</td>\n",
       "      <td>489,285,164,271</td>\n",
       "      <td>9231</td>\n",
       "      <td>G.I. Generation</td>\n",
       "    </tr>\n",
       "    <tr>\n",
       "      <th>26478</th>\n",
       "      <td>United Kingdom</td>\n",
       "      <td>1985</td>\n",
       "      <td>male</td>\n",
       "      <td>35-54 years</td>\n",
       "      <td>1208</td>\n",
       "      <td>6899879</td>\n",
       "      <td>17.51</td>\n",
       "      <td>United Kingdom1985</td>\n",
       "      <td>0.753</td>\n",
       "      <td>489,285,164,271</td>\n",
       "      <td>9231</td>\n",
       "      <td>Silent</td>\n",
       "    </tr>\n",
       "    <tr>\n",
       "      <th>26479</th>\n",
       "      <td>United Kingdom</td>\n",
       "      <td>1985</td>\n",
       "      <td>male</td>\n",
       "      <td>25-34 years</td>\n",
       "      <td>620</td>\n",
       "      <td>3969689</td>\n",
       "      <td>15.62</td>\n",
       "      <td>United Kingdom1985</td>\n",
       "      <td>0.753</td>\n",
       "      <td>489,285,164,271</td>\n",
       "      <td>9231</td>\n",
       "      <td>Boomers</td>\n",
       "    </tr>\n",
       "    <tr>\n",
       "      <th>26480</th>\n",
       "      <td>United Kingdom</td>\n",
       "      <td>1985</td>\n",
       "      <td>female</td>\n",
       "      <td>55-74 years</td>\n",
       "      <td>678</td>\n",
       "      <td>6002096</td>\n",
       "      <td>11.30</td>\n",
       "      <td>United Kingdom1985</td>\n",
       "      <td>0.753</td>\n",
       "      <td>489,285,164,271</td>\n",
       "      <td>9231</td>\n",
       "      <td>G.I. Generation</td>\n",
       "    </tr>\n",
       "    <tr>\n",
       "      <th>...</th>\n",
       "      <td>...</td>\n",
       "      <td>...</td>\n",
       "      <td>...</td>\n",
       "      <td>...</td>\n",
       "      <td>...</td>\n",
       "      <td>...</td>\n",
       "      <td>...</td>\n",
       "      <td>...</td>\n",
       "      <td>...</td>\n",
       "      <td>...</td>\n",
       "      <td>...</td>\n",
       "      <td>...</td>\n",
       "    </tr>\n",
       "    <tr>\n",
       "      <th>26843</th>\n",
       "      <td>United Kingdom</td>\n",
       "      <td>2015</td>\n",
       "      <td>female</td>\n",
       "      <td>25-34 years</td>\n",
       "      <td>181</td>\n",
       "      <td>4414464</td>\n",
       "      <td>4.10</td>\n",
       "      <td>United Kingdom2015</td>\n",
       "      <td>NaN</td>\n",
       "      <td>2,885,570,309,161</td>\n",
       "      <td>47240</td>\n",
       "      <td>Millenials</td>\n",
       "    </tr>\n",
       "    <tr>\n",
       "      <th>26844</th>\n",
       "      <td>United Kingdom</td>\n",
       "      <td>2015</td>\n",
       "      <td>female</td>\n",
       "      <td>75+ years</td>\n",
       "      <td>108</td>\n",
       "      <td>3070457</td>\n",
       "      <td>3.52</td>\n",
       "      <td>United Kingdom2015</td>\n",
       "      <td>NaN</td>\n",
       "      <td>2,885,570,309,161</td>\n",
       "      <td>47240</td>\n",
       "      <td>Silent</td>\n",
       "    </tr>\n",
       "    <tr>\n",
       "      <th>26845</th>\n",
       "      <td>United Kingdom</td>\n",
       "      <td>2015</td>\n",
       "      <td>female</td>\n",
       "      <td>15-24 years</td>\n",
       "      <td>104</td>\n",
       "      <td>3966564</td>\n",
       "      <td>2.62</td>\n",
       "      <td>United Kingdom2015</td>\n",
       "      <td>NaN</td>\n",
       "      <td>2,885,570,309,161</td>\n",
       "      <td>47240</td>\n",
       "      <td>Millenials</td>\n",
       "    </tr>\n",
       "    <tr>\n",
       "      <th>26846</th>\n",
       "      <td>United Kingdom</td>\n",
       "      <td>2015</td>\n",
       "      <td>female</td>\n",
       "      <td>5-14 years</td>\n",
       "      <td>6</td>\n",
       "      <td>3663221</td>\n",
       "      <td>0.16</td>\n",
       "      <td>United Kingdom2015</td>\n",
       "      <td>NaN</td>\n",
       "      <td>2,885,570,309,161</td>\n",
       "      <td>47240</td>\n",
       "      <td>Generation Z</td>\n",
       "    </tr>\n",
       "    <tr>\n",
       "      <th>26847</th>\n",
       "      <td>United Kingdom</td>\n",
       "      <td>2015</td>\n",
       "      <td>male</td>\n",
       "      <td>5-14 years</td>\n",
       "      <td>4</td>\n",
       "      <td>3840476</td>\n",
       "      <td>0.10</td>\n",
       "      <td>United Kingdom2015</td>\n",
       "      <td>NaN</td>\n",
       "      <td>2,885,570,309,161</td>\n",
       "      <td>47240</td>\n",
       "      <td>Generation Z</td>\n",
       "    </tr>\n",
       "  </tbody>\n",
       "</table>\n",
       "<p>372 rows × 12 columns</p>\n",
       "</div>"
      ],
      "text/plain": [
       "              country  year     sex          age  suicides_no  population  \\\n",
       "26476  United Kingdom  1985    male    75+ years          264     1202838   \n",
       "26477  United Kingdom  1985    male  55-74 years          915     5170113   \n",
       "26478  United Kingdom  1985    male  35-54 years         1208     6899879   \n",
       "26479  United Kingdom  1985    male  25-34 years          620     3969689   \n",
       "26480  United Kingdom  1985  female  55-74 years          678     6002096   \n",
       "...               ...   ...     ...          ...          ...         ...   \n",
       "26843  United Kingdom  2015  female  25-34 years          181     4414464   \n",
       "26844  United Kingdom  2015  female    75+ years          108     3070457   \n",
       "26845  United Kingdom  2015  female  15-24 years          104     3966564   \n",
       "26846  United Kingdom  2015  female   5-14 years            6     3663221   \n",
       "26847  United Kingdom  2015    male   5-14 years            4     3840476   \n",
       "\n",
       "       suicides/100k pop        country-year  HDI for year  gdp_for_year ($)   \\\n",
       "26476              21.95  United Kingdom1985         0.753    489,285,164,271   \n",
       "26477              17.70  United Kingdom1985         0.753    489,285,164,271   \n",
       "26478              17.51  United Kingdom1985         0.753    489,285,164,271   \n",
       "26479              15.62  United Kingdom1985         0.753    489,285,164,271   \n",
       "26480              11.30  United Kingdom1985         0.753    489,285,164,271   \n",
       "...                  ...                 ...           ...                ...   \n",
       "26843               4.10  United Kingdom2015           NaN  2,885,570,309,161   \n",
       "26844               3.52  United Kingdom2015           NaN  2,885,570,309,161   \n",
       "26845               2.62  United Kingdom2015           NaN  2,885,570,309,161   \n",
       "26846               0.16  United Kingdom2015           NaN  2,885,570,309,161   \n",
       "26847               0.10  United Kingdom2015           NaN  2,885,570,309,161   \n",
       "\n",
       "       gdp_per_capita ($)       generation  \n",
       "26476                9231  G.I. Generation  \n",
       "26477                9231  G.I. Generation  \n",
       "26478                9231           Silent  \n",
       "26479                9231          Boomers  \n",
       "26480                9231  G.I. Generation  \n",
       "...                   ...              ...  \n",
       "26843               47240       Millenials  \n",
       "26844               47240           Silent  \n",
       "26845               47240       Millenials  \n",
       "26846               47240     Generation Z  \n",
       "26847               47240     Generation Z  \n",
       "\n",
       "[372 rows x 12 columns]"
      ]
     },
     "execution_count": 37,
     "metadata": {},
     "output_type": "execute_result"
    }
   ],
   "source": [
    "UK_data"
   ]
  },
  {
   "cell_type": "code",
   "execution_count": 42,
   "id": "41317460",
   "metadata": {},
   "outputs": [],
   "source": [
    "UKdata_2015 = UK_data[UK_data.year == 2015]"
   ]
  },
  {
   "cell_type": "code",
   "execution_count": 43,
   "id": "3e7c3ca9",
   "metadata": {},
   "outputs": [
    {
     "data": {
      "text/html": [
       "<div>\n",
       "<style scoped>\n",
       "    .dataframe tbody tr th:only-of-type {\n",
       "        vertical-align: middle;\n",
       "    }\n",
       "\n",
       "    .dataframe tbody tr th {\n",
       "        vertical-align: top;\n",
       "    }\n",
       "\n",
       "    .dataframe thead th {\n",
       "        text-align: right;\n",
       "    }\n",
       "</style>\n",
       "<table border=\"1\" class=\"dataframe\">\n",
       "  <thead>\n",
       "    <tr style=\"text-align: right;\">\n",
       "      <th></th>\n",
       "      <th>country</th>\n",
       "      <th>year</th>\n",
       "      <th>sex</th>\n",
       "      <th>age</th>\n",
       "      <th>suicides_no</th>\n",
       "      <th>population</th>\n",
       "      <th>suicides/100k pop</th>\n",
       "      <th>country-year</th>\n",
       "      <th>HDI for year</th>\n",
       "      <th>gdp_for_year ($)</th>\n",
       "      <th>gdp_per_capita ($)</th>\n",
       "      <th>generation</th>\n",
       "    </tr>\n",
       "  </thead>\n",
       "  <tbody>\n",
       "    <tr>\n",
       "      <th>26836</th>\n",
       "      <td>United Kingdom</td>\n",
       "      <td>2015</td>\n",
       "      <td>male</td>\n",
       "      <td>35-54 years</td>\n",
       "      <td>1579</td>\n",
       "      <td>8692440</td>\n",
       "      <td>18.17</td>\n",
       "      <td>United Kingdom2015</td>\n",
       "      <td>NaN</td>\n",
       "      <td>2,885,570,309,161</td>\n",
       "      <td>47240</td>\n",
       "      <td>Generation X</td>\n",
       "    </tr>\n",
       "    <tr>\n",
       "      <th>26837</th>\n",
       "      <td>United Kingdom</td>\n",
       "      <td>2015</td>\n",
       "      <td>male</td>\n",
       "      <td>25-34 years</td>\n",
       "      <td>596</td>\n",
       "      <td>4408293</td>\n",
       "      <td>13.52</td>\n",
       "      <td>United Kingdom2015</td>\n",
       "      <td>NaN</td>\n",
       "      <td>2,885,570,309,161</td>\n",
       "      <td>47240</td>\n",
       "      <td>Millenials</td>\n",
       "    </tr>\n",
       "    <tr>\n",
       "      <th>26838</th>\n",
       "      <td>United Kingdom</td>\n",
       "      <td>2015</td>\n",
       "      <td>male</td>\n",
       "      <td>55-74 years</td>\n",
       "      <td>906</td>\n",
       "      <td>6716557</td>\n",
       "      <td>13.49</td>\n",
       "      <td>United Kingdom2015</td>\n",
       "      <td>NaN</td>\n",
       "      <td>2,885,570,309,161</td>\n",
       "      <td>47240</td>\n",
       "      <td>Boomers</td>\n",
       "    </tr>\n",
       "    <tr>\n",
       "      <th>26839</th>\n",
       "      <td>United Kingdom</td>\n",
       "      <td>2015</td>\n",
       "      <td>male</td>\n",
       "      <td>75+ years</td>\n",
       "      <td>273</td>\n",
       "      <td>2200958</td>\n",
       "      <td>12.40</td>\n",
       "      <td>United Kingdom2015</td>\n",
       "      <td>NaN</td>\n",
       "      <td>2,885,570,309,161</td>\n",
       "      <td>47240</td>\n",
       "      <td>Silent</td>\n",
       "    </tr>\n",
       "    <tr>\n",
       "      <th>26840</th>\n",
       "      <td>United Kingdom</td>\n",
       "      <td>2015</td>\n",
       "      <td>male</td>\n",
       "      <td>15-24 years</td>\n",
       "      <td>374</td>\n",
       "      <td>4151992</td>\n",
       "      <td>9.01</td>\n",
       "      <td>United Kingdom2015</td>\n",
       "      <td>NaN</td>\n",
       "      <td>2,885,570,309,161</td>\n",
       "      <td>47240</td>\n",
       "      <td>Millenials</td>\n",
       "    </tr>\n",
       "    <tr>\n",
       "      <th>26841</th>\n",
       "      <td>United Kingdom</td>\n",
       "      <td>2015</td>\n",
       "      <td>female</td>\n",
       "      <td>35-54 years</td>\n",
       "      <td>473</td>\n",
       "      <td>8881944</td>\n",
       "      <td>5.33</td>\n",
       "      <td>United Kingdom2015</td>\n",
       "      <td>NaN</td>\n",
       "      <td>2,885,570,309,161</td>\n",
       "      <td>47240</td>\n",
       "      <td>Generation X</td>\n",
       "    </tr>\n",
       "    <tr>\n",
       "      <th>26842</th>\n",
       "      <td>United Kingdom</td>\n",
       "      <td>2015</td>\n",
       "      <td>female</td>\n",
       "      <td>55-74 years</td>\n",
       "      <td>306</td>\n",
       "      <td>7075576</td>\n",
       "      <td>4.32</td>\n",
       "      <td>United Kingdom2015</td>\n",
       "      <td>NaN</td>\n",
       "      <td>2,885,570,309,161</td>\n",
       "      <td>47240</td>\n",
       "      <td>Boomers</td>\n",
       "    </tr>\n",
       "    <tr>\n",
       "      <th>26843</th>\n",
       "      <td>United Kingdom</td>\n",
       "      <td>2015</td>\n",
       "      <td>female</td>\n",
       "      <td>25-34 years</td>\n",
       "      <td>181</td>\n",
       "      <td>4414464</td>\n",
       "      <td>4.10</td>\n",
       "      <td>United Kingdom2015</td>\n",
       "      <td>NaN</td>\n",
       "      <td>2,885,570,309,161</td>\n",
       "      <td>47240</td>\n",
       "      <td>Millenials</td>\n",
       "    </tr>\n",
       "    <tr>\n",
       "      <th>26844</th>\n",
       "      <td>United Kingdom</td>\n",
       "      <td>2015</td>\n",
       "      <td>female</td>\n",
       "      <td>75+ years</td>\n",
       "      <td>108</td>\n",
       "      <td>3070457</td>\n",
       "      <td>3.52</td>\n",
       "      <td>United Kingdom2015</td>\n",
       "      <td>NaN</td>\n",
       "      <td>2,885,570,309,161</td>\n",
       "      <td>47240</td>\n",
       "      <td>Silent</td>\n",
       "    </tr>\n",
       "    <tr>\n",
       "      <th>26845</th>\n",
       "      <td>United Kingdom</td>\n",
       "      <td>2015</td>\n",
       "      <td>female</td>\n",
       "      <td>15-24 years</td>\n",
       "      <td>104</td>\n",
       "      <td>3966564</td>\n",
       "      <td>2.62</td>\n",
       "      <td>United Kingdom2015</td>\n",
       "      <td>NaN</td>\n",
       "      <td>2,885,570,309,161</td>\n",
       "      <td>47240</td>\n",
       "      <td>Millenials</td>\n",
       "    </tr>\n",
       "    <tr>\n",
       "      <th>26846</th>\n",
       "      <td>United Kingdom</td>\n",
       "      <td>2015</td>\n",
       "      <td>female</td>\n",
       "      <td>5-14 years</td>\n",
       "      <td>6</td>\n",
       "      <td>3663221</td>\n",
       "      <td>0.16</td>\n",
       "      <td>United Kingdom2015</td>\n",
       "      <td>NaN</td>\n",
       "      <td>2,885,570,309,161</td>\n",
       "      <td>47240</td>\n",
       "      <td>Generation Z</td>\n",
       "    </tr>\n",
       "    <tr>\n",
       "      <th>26847</th>\n",
       "      <td>United Kingdom</td>\n",
       "      <td>2015</td>\n",
       "      <td>male</td>\n",
       "      <td>5-14 years</td>\n",
       "      <td>4</td>\n",
       "      <td>3840476</td>\n",
       "      <td>0.10</td>\n",
       "      <td>United Kingdom2015</td>\n",
       "      <td>NaN</td>\n",
       "      <td>2,885,570,309,161</td>\n",
       "      <td>47240</td>\n",
       "      <td>Generation Z</td>\n",
       "    </tr>\n",
       "  </tbody>\n",
       "</table>\n",
       "</div>"
      ],
      "text/plain": [
       "              country  year     sex          age  suicides_no  population  \\\n",
       "26836  United Kingdom  2015    male  35-54 years         1579     8692440   \n",
       "26837  United Kingdom  2015    male  25-34 years          596     4408293   \n",
       "26838  United Kingdom  2015    male  55-74 years          906     6716557   \n",
       "26839  United Kingdom  2015    male    75+ years          273     2200958   \n",
       "26840  United Kingdom  2015    male  15-24 years          374     4151992   \n",
       "26841  United Kingdom  2015  female  35-54 years          473     8881944   \n",
       "26842  United Kingdom  2015  female  55-74 years          306     7075576   \n",
       "26843  United Kingdom  2015  female  25-34 years          181     4414464   \n",
       "26844  United Kingdom  2015  female    75+ years          108     3070457   \n",
       "26845  United Kingdom  2015  female  15-24 years          104     3966564   \n",
       "26846  United Kingdom  2015  female   5-14 years            6     3663221   \n",
       "26847  United Kingdom  2015    male   5-14 years            4     3840476   \n",
       "\n",
       "       suicides/100k pop        country-year  HDI for year  gdp_for_year ($)   \\\n",
       "26836              18.17  United Kingdom2015           NaN  2,885,570,309,161   \n",
       "26837              13.52  United Kingdom2015           NaN  2,885,570,309,161   \n",
       "26838              13.49  United Kingdom2015           NaN  2,885,570,309,161   \n",
       "26839              12.40  United Kingdom2015           NaN  2,885,570,309,161   \n",
       "26840               9.01  United Kingdom2015           NaN  2,885,570,309,161   \n",
       "26841               5.33  United Kingdom2015           NaN  2,885,570,309,161   \n",
       "26842               4.32  United Kingdom2015           NaN  2,885,570,309,161   \n",
       "26843               4.10  United Kingdom2015           NaN  2,885,570,309,161   \n",
       "26844               3.52  United Kingdom2015           NaN  2,885,570,309,161   \n",
       "26845               2.62  United Kingdom2015           NaN  2,885,570,309,161   \n",
       "26846               0.16  United Kingdom2015           NaN  2,885,570,309,161   \n",
       "26847               0.10  United Kingdom2015           NaN  2,885,570,309,161   \n",
       "\n",
       "       gdp_per_capita ($)    generation  \n",
       "26836               47240  Generation X  \n",
       "26837               47240    Millenials  \n",
       "26838               47240       Boomers  \n",
       "26839               47240        Silent  \n",
       "26840               47240    Millenials  \n",
       "26841               47240  Generation X  \n",
       "26842               47240       Boomers  \n",
       "26843               47240    Millenials  \n",
       "26844               47240        Silent  \n",
       "26845               47240    Millenials  \n",
       "26846               47240  Generation Z  \n",
       "26847               47240  Generation Z  "
      ]
     },
     "execution_count": 43,
     "metadata": {},
     "output_type": "execute_result"
    }
   ],
   "source": [
    "UKdata_2015"
   ]
  },
  {
   "cell_type": "code",
   "execution_count": 85,
   "id": "3c168345",
   "metadata": {},
   "outputs": [
    {
     "data": {
      "text/plain": [
       "country                   United Kingdom\n",
       "year                                2015\n",
       "sex                                 male\n",
       "age                          35-54 years\n",
       "suicides_no                         1579\n",
       "population                       8692440\n",
       "suicides/100k pop                  18.17\n",
       "country-year          United Kingdom2015\n",
       "HDI for year                         NaN\n",
       " gdp_for_year ($)      2,885,570,309,161\n",
       "gdp_per_capita ($)                 47240\n",
       "generation                  Generation X\n",
       "Name: 26836, dtype: object"
      ]
     },
     "execution_count": 85,
     "metadata": {},
     "output_type": "execute_result"
    }
   ],
   "source": [
    "UKdata_2015.loc[26836]"
   ]
  },
  {
   "cell_type": "code",
   "execution_count": 87,
   "id": "bca79dab",
   "metadata": {},
   "outputs": [
    {
     "data": {
      "image/png": "[encoded data removed]",
      "text/plain": [
       "<Figure size 432x288 with 1 Axes>"
      ]
     },
     "metadata": {},
     "output_type": "display_data"
    }
   ],
   "source": [
    "labels = 'Alive population at 35-54', 'Dead population at 35-54'\n",
    "explode = (0.1,0)\n",
    "population = [8692440, 1579]\n",
    "colors = ['blue', 'gold']\n",
    "plt.pie(population, colors = colors,labels=labels,explode=explode,shadow = True, startangle = 180)\n",
    "plt.title('percentage of suicide to normal population')\n",
    "plt.show()"
   ]
  },
  {
   "cell_type": "code",
   "execution_count": 44,
   "id": "7de04edb",
   "metadata": {},
   "outputs": [],
   "source": [
    "import matplotlib.pyplot as plt"
   ]
  },
  {
   "cell_type": "code",
   "execution_count": 56,
   "id": "a4ab7713",
   "metadata": {},
   "outputs": [],
   "source": [
    "totalYearlySuicide = UK_data.groupby('year').suicides_no.sum()"
   ]
  },
  {
   "cell_type": "code",
   "execution_count": 57,
   "id": "768ac39b",
   "metadata": {},
   "outputs": [
    {
     "name": "stdout",
     "output_type": "stream",
     "text": [
      "year\n",
      "1985    5105\n",
      "1986    4839\n",
      "1987    4594\n",
      "1988    4971\n",
      "1989    4361\n",
      "1990    4643\n",
      "1991    4547\n",
      "1992    4628\n",
      "1993    4462\n",
      "1994    4380\n",
      "1995    4315\n",
      "1996    4165\n",
      "1997    4143\n",
      "1998    4389\n",
      "1999    4448\n",
      "2000    4290\n",
      "2001    4128\n",
      "2002    4117\n",
      "2003    3979\n",
      "2004    4183\n",
      "2005    4047\n",
      "2006    4122\n",
      "2007    3897\n",
      "2008    4259\n",
      "2009    4246\n",
      "2010    4188\n",
      "2011    4393\n",
      "2012    4444\n",
      "2013    4824\n",
      "2014    4788\n",
      "2015    4910\n",
      "Name: suicides_no, dtype: int64\n"
     ]
    }
   ],
   "source": [
    "print(totalYearlySuicide)"
   ]
  },
  {
   "cell_type": "code",
   "execution_count": 52,
   "id": "dce998e3",
   "metadata": {},
   "outputs": [
    {
     "data": {
      "image/png": "[encoded data removed]",
      "text/plain": [
       "<Figure size 432x288 with 1 Axes>"
      ]
     },
     "metadata": {
      "needs_background": "light"
     },
     "output_type": "display_data"
    }
   ],
   "source": [
    "yearly_suicides = totalYearlySuicide.plot.bar()# i just visualized the total number of suicides in each year"
   ]
  },
  {
   "cell_type": "code",
   "execution_count": 90,
   "id": "5edd5a0f",
   "metadata": {},
   "outputs": [],
   "source": [
    "Uk_Population_By_Sex = UKdata_2015.groupby('sex').population.sum()"
   ]
  },
  {
   "cell_type": "code",
   "execution_count": 91,
   "id": "12cf4d74",
   "metadata": {},
   "outputs": [
    {
     "data": {
      "text/plain": [
       "sex\n",
       "female    31072226\n",
       "male      30010716\n",
       "Name: population, dtype: int64"
      ]
     },
     "execution_count": 91,
     "metadata": {},
     "output_type": "execute_result"
    }
   ],
   "source": [
    "Uk_Population_By_Sex"
   ]
  },
  {
   "cell_type": "code",
   "execution_count": 93,
   "id": "4f53b40e",
   "metadata": {},
   "outputs": [
    {
     "data": {
      "image/png": "[encoded data removed]",
      "text/plain": [
       "<Figure size 432x288 with 1 Axes>"
      ]
     },
     "metadata": {
      "needs_background": "light"
     },
     "output_type": "display_data"
    }
   ],
   "source": [
    "Uk_Population_By_Sex_chart = Uk_Population_By_Sex.plot.bar() # bar plot of the population of women to men in UK"
   ]
  },
  {
   "cell_type": "code",
   "execution_count": 89,
   "id": "60d9ddc9",
   "metadata": {},
   "outputs": [],
   "source": [
    "Uk_Suicides_By_Sex = UKdata_2015.groupby('sex').suicides_no.sum()# the number of suicides in 2015 based on sex"
   ]
  },
  {
   "cell_type": "code",
   "execution_count": 59,
   "id": "19751de7",
   "metadata": {},
   "outputs": [
    {
     "name": "stdout",
     "output_type": "stream",
     "text": [
      "sex\n",
      "female    1178\n",
      "male      3732\n",
      "Name: suicides_no, dtype: int64\n"
     ]
    }
   ],
   "source": [
    "print(Uk_Suicides_By_Sex)"
   ]
  },
  {
   "cell_type": "code",
   "execution_count": 63,
   "id": "e68b2b75",
   "metadata": {},
   "outputs": [
    {
     "data": {
      "image/png": "[encoded data removed]",
      "text/plain": [
       "<Figure size 432x288 with 1 Axes>"
      ]
     },
     "metadata": {},
     "output_type": "display_data"
    }
   ],
   "source": [
    "labels = 'Women', 'Men'\n",
    "explode = (0.1,0)\n",
    "colors = ['red', 'blue']\n",
    "plt.pie(Uk_Suicides_By_Sex, colors = colors,labels=labels,explode=explode,shadow = True, startangle = 180)\n",
    "plt.title('percentage of suicide rate in men and women')\n",
    "plt.show()"
   ]
  },
  {
   "cell_type": "code",
   "execution_count": 64,
   "id": "9f4ce3a8",
   "metadata": {},
   "outputs": [],
   "source": [
    "# From the above, you can see basically that its not easy for men in this life. Lets look at the age group of these men\n",
    "UKdataMale_2015 = UKdata_2015[UKdata_2015.sex == 'male']"
   ]
  },
  {
   "cell_type": "code",
   "execution_count": 65,
   "id": "c7c63f04",
   "metadata": {},
   "outputs": [
    {
     "data": {
      "text/html": [
       "<div>\n",
       "<style scoped>\n",
       "    .dataframe tbody tr th:only-of-type {\n",
       "        vertical-align: middle;\n",
       "    }\n",
       "\n",
       "    .dataframe tbody tr th {\n",
       "        vertical-align: top;\n",
       "    }\n",
       "\n",
       "    .dataframe thead th {\n",
       "        text-align: right;\n",
       "    }\n",
       "</style>\n",
       "<table border=\"1\" class=\"dataframe\">\n",
       "  <thead>\n",
       "    <tr style=\"text-align: right;\">\n",
       "      <th></th>\n",
       "      <th>country</th>\n",
       "      <th>year</th>\n",
       "      <th>sex</th>\n",
       "      <th>age</th>\n",
       "      <th>suicides_no</th>\n",
       "      <th>population</th>\n",
       "      <th>suicides/100k pop</th>\n",
       "      <th>country-year</th>\n",
       "      <th>HDI for year</th>\n",
       "      <th>gdp_for_year ($)</th>\n",
       "      <th>gdp_per_capita ($)</th>\n",
       "      <th>generation</th>\n",
       "    </tr>\n",
       "  </thead>\n",
       "  <tbody>\n",
       "    <tr>\n",
       "      <th>26836</th>\n",
       "      <td>United Kingdom</td>\n",
       "      <td>2015</td>\n",
       "      <td>male</td>\n",
       "      <td>35-54 years</td>\n",
       "      <td>1579</td>\n",
       "      <td>8692440</td>\n",
       "      <td>18.17</td>\n",
       "      <td>United Kingdom2015</td>\n",
       "      <td>NaN</td>\n",
       "      <td>2,885,570,309,161</td>\n",
       "      <td>47240</td>\n",
       "      <td>Generation X</td>\n",
       "    </tr>\n",
       "    <tr>\n",
       "      <th>26837</th>\n",
       "      <td>United Kingdom</td>\n",
       "      <td>2015</td>\n",
       "      <td>male</td>\n",
       "      <td>25-34 years</td>\n",
       "      <td>596</td>\n",
       "      <td>4408293</td>\n",
       "      <td>13.52</td>\n",
       "      <td>United Kingdom2015</td>\n",
       "      <td>NaN</td>\n",
       "      <td>2,885,570,309,161</td>\n",
       "      <td>47240</td>\n",
       "      <td>Millenials</td>\n",
       "    </tr>\n",
       "    <tr>\n",
       "      <th>26838</th>\n",
       "      <td>United Kingdom</td>\n",
       "      <td>2015</td>\n",
       "      <td>male</td>\n",
       "      <td>55-74 years</td>\n",
       "      <td>906</td>\n",
       "      <td>6716557</td>\n",
       "      <td>13.49</td>\n",
       "      <td>United Kingdom2015</td>\n",
       "      <td>NaN</td>\n",
       "      <td>2,885,570,309,161</td>\n",
       "      <td>47240</td>\n",
       "      <td>Boomers</td>\n",
       "    </tr>\n",
       "    <tr>\n",
       "      <th>26839</th>\n",
       "      <td>United Kingdom</td>\n",
       "      <td>2015</td>\n",
       "      <td>male</td>\n",
       "      <td>75+ years</td>\n",
       "      <td>273</td>\n",
       "      <td>2200958</td>\n",
       "      <td>12.40</td>\n",
       "      <td>United Kingdom2015</td>\n",
       "      <td>NaN</td>\n",
       "      <td>2,885,570,309,161</td>\n",
       "      <td>47240</td>\n",
       "      <td>Silent</td>\n",
       "    </tr>\n",
       "    <tr>\n",
       "      <th>26840</th>\n",
       "      <td>United Kingdom</td>\n",
       "      <td>2015</td>\n",
       "      <td>male</td>\n",
       "      <td>15-24 years</td>\n",
       "      <td>374</td>\n",
       "      <td>4151992</td>\n",
       "      <td>9.01</td>\n",
       "      <td>United Kingdom2015</td>\n",
       "      <td>NaN</td>\n",
       "      <td>2,885,570,309,161</td>\n",
       "      <td>47240</td>\n",
       "      <td>Millenials</td>\n",
       "    </tr>\n",
       "    <tr>\n",
       "      <th>26847</th>\n",
       "      <td>United Kingdom</td>\n",
       "      <td>2015</td>\n",
       "      <td>male</td>\n",
       "      <td>5-14 years</td>\n",
       "      <td>4</td>\n",
       "      <td>3840476</td>\n",
       "      <td>0.10</td>\n",
       "      <td>United Kingdom2015</td>\n",
       "      <td>NaN</td>\n",
       "      <td>2,885,570,309,161</td>\n",
       "      <td>47240</td>\n",
       "      <td>Generation Z</td>\n",
       "    </tr>\n",
       "  </tbody>\n",
       "</table>\n",
       "</div>"
      ],
      "text/plain": [
       "              country  year   sex          age  suicides_no  population  \\\n",
       "26836  United Kingdom  2015  male  35-54 years         1579     8692440   \n",
       "26837  United Kingdom  2015  male  25-34 years          596     4408293   \n",
       "26838  United Kingdom  2015  male  55-74 years          906     6716557   \n",
       "26839  United Kingdom  2015  male    75+ years          273     2200958   \n",
       "26840  United Kingdom  2015  male  15-24 years          374     4151992   \n",
       "26847  United Kingdom  2015  male   5-14 years            4     3840476   \n",
       "\n",
       "       suicides/100k pop        country-year  HDI for year  gdp_for_year ($)   \\\n",
       "26836              18.17  United Kingdom2015           NaN  2,885,570,309,161   \n",
       "26837              13.52  United Kingdom2015           NaN  2,885,570,309,161   \n",
       "26838              13.49  United Kingdom2015           NaN  2,885,570,309,161   \n",
       "26839              12.40  United Kingdom2015           NaN  2,885,570,309,161   \n",
       "26840               9.01  United Kingdom2015           NaN  2,885,570,309,161   \n",
       "26847               0.10  United Kingdom2015           NaN  2,885,570,309,161   \n",
       "\n",
       "       gdp_per_capita ($)    generation  \n",
       "26836               47240  Generation X  \n",
       "26837               47240    Millenials  \n",
       "26838               47240       Boomers  \n",
       "26839               47240        Silent  \n",
       "26840               47240    Millenials  \n",
       "26847               47240  Generation Z  "
      ]
     },
     "execution_count": 65,
     "metadata": {},
     "output_type": "execute_result"
    }
   ],
   "source": [
    "UKdataMale_2015"
   ]
  },
  {
   "cell_type": "code",
   "execution_count": 95,
   "id": "f86a1641",
   "metadata": {},
   "outputs": [],
   "source": [
    "Uk_Population_By_maleAge = UKdataMale_2015.groupby('age').population.sum()"
   ]
  },
  {
   "cell_type": "code",
   "execution_count": 96,
   "id": "635bde58",
   "metadata": {},
   "outputs": [
    {
     "data": {
      "text/plain": [
       "age\n",
       "15-24 years    4151992\n",
       "25-34 years    4408293\n",
       "35-54 years    8692440\n",
       "5-14 years     3840476\n",
       "55-74 years    6716557\n",
       "75+ years      2200958\n",
       "Name: population, dtype: int64"
      ]
     },
     "execution_count": 96,
     "metadata": {},
     "output_type": "execute_result"
    }
   ],
   "source": [
    "Uk_Population_By_maleAge"
   ]
  },
  {
   "cell_type": "code",
   "execution_count": 97,
   "id": "023776c1",
   "metadata": {},
   "outputs": [
    {
     "data": {
      "image/png": "[encoded data removed]",
      "text/plain": [
       "<Figure size 432x288 with 1 Axes>"
      ]
     },
     "metadata": {
      "needs_background": "light"
     },
     "output_type": "display_data"
    }
   ],
   "source": [
    "Uk_Population_By_maleAge_chart = Uk_Population_By_maleAge.plot.bar()"
   ]
  },
  {
   "cell_type": "code",
   "execution_count": 99,
   "id": "861a791e",
   "metadata": {},
   "outputs": [
    {
     "data": {
      "image/png": "[encoded data removed]",
      "text/plain": [
       "<Figure size 432x288 with 1 Axes>"
      ]
     },
     "metadata": {},
     "output_type": "display_data"
    }
   ],
   "source": [
    "labels = '15-24 years', '25-34 years','35-54 years','5-14 years','55-74 years','75+ years'\n",
    "explode = (0,0,0,0,0,0)\n",
    "colors = ['green','blue','red','gold','lightcoral','lightskyblue']\n",
    "plt.pie(Uk_Population_By_maleAge, colors = colors,labels=labels,explode=explode,shadow = True, startangle = 180)\n",
    "plt.title('percentage of population in men of different ages in UK 2015')\n",
    "plt.show()"
   ]
  },
  {
   "cell_type": "code",
   "execution_count": 66,
   "id": "d812b8b4",
   "metadata": {},
   "outputs": [],
   "source": [
    "Uk_Suicides_By_maleAge = UKdataMale_2015.groupby('age').suicides_no.sum()"
   ]
  },
  {
   "cell_type": "code",
   "execution_count": 67,
   "id": "1795b87c",
   "metadata": {},
   "outputs": [
    {
     "data": {
      "text/plain": [
       "age\n",
       "15-24 years     374\n",
       "25-34 years     596\n",
       "35-54 years    1579\n",
       "5-14 years        4\n",
       "55-74 years     906\n",
       "75+ years       273\n",
       "Name: suicides_no, dtype: int64"
      ]
     },
     "execution_count": 67,
     "metadata": {},
     "output_type": "execute_result"
    }
   ],
   "source": [
    "Uk_Suicides_By_maleAge"
   ]
  },
  {
   "cell_type": "code",
   "execution_count": 94,
   "id": "1db8cd5d",
   "metadata": {},
   "outputs": [
    {
     "data": {
      "image/png": "[encoded data removed]",
      "text/plain": [
       "<Figure size 432x288 with 1 Axes>"
      ]
     },
     "metadata": {
      "needs_background": "light"
     },
     "output_type": "display_data"
    }
   ],
   "source": [
    "Uk_Suicides_By_maleAge_chart = Uk_Suicides_By_maleAge.plot.bar()"
   ]
  },
  {
   "cell_type": "code",
   "execution_count": 78,
   "id": "c6d1f736",
   "metadata": {},
   "outputs": [
    {
     "data": {
      "image/png": "[encoded data removed]",
      "text/plain": [
       "<Figure size 432x288 with 1 Axes>"
      ]
     },
     "metadata": {},
     "output_type": "display_data"
    }
   ],
   "source": [
    "labels = '15-24 years', '25-34 years','35-54 years','5-14 years','55-74 years','75+ years'\n",
    "explode = (0,0,0.1,0,0,0)\n",
    "colors = ['green','blue','red','gold','lightcoral','lightskyblue']\n",
    "plt.pie(Uk_Suicides_By_maleAge, colors = colors,labels=labels,explode=explode,shadow = True, startangle = 180)\n",
    "plt.title('percentage of suicide rate in men of different ages in UK 2015')\n",
    "plt.show()"
   ]
  },
  {
   "cell_type": "code",
   "execution_count": 71,
   "id": "b1c1cd8f",
   "metadata": {},
   "outputs": [],
   "source": [
    "# From this we can se that men between the ages of 35 and 54 are more likely to commit suicide than other age range\n",
    "# Now lets look at females\n",
    "UKdataFemale_2015 = UKdata_2015[UKdata_2015.sex == 'female']"
   ]
  },
  {
   "cell_type": "code",
   "execution_count": 72,
   "id": "31ab7bd7",
   "metadata": {},
   "outputs": [
    {
     "data": {
      "text/html": [
       "<div>\n",
       "<style scoped>\n",
       "    .dataframe tbody tr th:only-of-type {\n",
       "        vertical-align: middle;\n",
       "    }\n",
       "\n",
       "    .dataframe tbody tr th {\n",
       "        vertical-align: top;\n",
       "    }\n",
       "\n",
       "    .dataframe thead th {\n",
       "        text-align: right;\n",
       "    }\n",
       "</style>\n",
       "<table border=\"1\" class=\"dataframe\">\n",
       "  <thead>\n",
       "    <tr style=\"text-align: right;\">\n",
       "      <th></th>\n",
       "      <th>country</th>\n",
       "      <th>year</th>\n",
       "      <th>sex</th>\n",
       "      <th>age</th>\n",
       "      <th>suicides_no</th>\n",
       "      <th>population</th>\n",
       "      <th>suicides/100k pop</th>\n",
       "      <th>country-year</th>\n",
       "      <th>HDI for year</th>\n",
       "      <th>gdp_for_year ($)</th>\n",
       "      <th>gdp_per_capita ($)</th>\n",
       "      <th>generation</th>\n",
       "    </tr>\n",
       "  </thead>\n",
       "  <tbody>\n",
       "    <tr>\n",
       "      <th>26841</th>\n",
       "      <td>United Kingdom</td>\n",
       "      <td>2015</td>\n",
       "      <td>female</td>\n",
       "      <td>35-54 years</td>\n",
       "      <td>473</td>\n",
       "      <td>8881944</td>\n",
       "      <td>5.33</td>\n",
       "      <td>United Kingdom2015</td>\n",
       "      <td>NaN</td>\n",
       "      <td>2,885,570,309,161</td>\n",
       "      <td>47240</td>\n",
       "      <td>Generation X</td>\n",
       "    </tr>\n",
       "    <tr>\n",
       "      <th>26842</th>\n",
       "      <td>United Kingdom</td>\n",
       "      <td>2015</td>\n",
       "      <td>female</td>\n",
       "      <td>55-74 years</td>\n",
       "      <td>306</td>\n",
       "      <td>7075576</td>\n",
       "      <td>4.32</td>\n",
       "      <td>United Kingdom2015</td>\n",
       "      <td>NaN</td>\n",
       "      <td>2,885,570,309,161</td>\n",
       "      <td>47240</td>\n",
       "      <td>Boomers</td>\n",
       "    </tr>\n",
       "    <tr>\n",
       "      <th>26843</th>\n",
       "      <td>United Kingdom</td>\n",
       "      <td>2015</td>\n",
       "      <td>female</td>\n",
       "      <td>25-34 years</td>\n",
       "      <td>181</td>\n",
       "      <td>4414464</td>\n",
       "      <td>4.10</td>\n",
       "      <td>United Kingdom2015</td>\n",
       "      <td>NaN</td>\n",
       "      <td>2,885,570,309,161</td>\n",
       "      <td>47240</td>\n",
       "      <td>Millenials</td>\n",
       "    </tr>\n",
       "    <tr>\n",
       "      <th>26844</th>\n",
       "      <td>United Kingdom</td>\n",
       "      <td>2015</td>\n",
       "      <td>female</td>\n",
       "      <td>75+ years</td>\n",
       "      <td>108</td>\n",
       "      <td>3070457</td>\n",
       "      <td>3.52</td>\n",
       "      <td>United Kingdom2015</td>\n",
       "      <td>NaN</td>\n",
       "      <td>2,885,570,309,161</td>\n",
       "      <td>47240</td>\n",
       "      <td>Silent</td>\n",
       "    </tr>\n",
       "    <tr>\n",
       "      <th>26845</th>\n",
       "      <td>United Kingdom</td>\n",
       "      <td>2015</td>\n",
       "      <td>female</td>\n",
       "      <td>15-24 years</td>\n",
       "      <td>104</td>\n",
       "      <td>3966564</td>\n",
       "      <td>2.62</td>\n",
       "      <td>United Kingdom2015</td>\n",
       "      <td>NaN</td>\n",
       "      <td>2,885,570,309,161</td>\n",
       "      <td>47240</td>\n",
       "      <td>Millenials</td>\n",
       "    </tr>\n",
       "    <tr>\n",
       "      <th>26846</th>\n",
       "      <td>United Kingdom</td>\n",
       "      <td>2015</td>\n",
       "      <td>female</td>\n",
       "      <td>5-14 years</td>\n",
       "      <td>6</td>\n",
       "      <td>3663221</td>\n",
       "      <td>0.16</td>\n",
       "      <td>United Kingdom2015</td>\n",
       "      <td>NaN</td>\n",
       "      <td>2,885,570,309,161</td>\n",
       "      <td>47240</td>\n",
       "      <td>Generation Z</td>\n",
       "    </tr>\n",
       "  </tbody>\n",
       "</table>\n",
       "</div>"
      ],
      "text/plain": [
       "              country  year     sex          age  suicides_no  population  \\\n",
       "26841  United Kingdom  2015  female  35-54 years          473     8881944   \n",
       "26842  United Kingdom  2015  female  55-74 years          306     7075576   \n",
       "26843  United Kingdom  2015  female  25-34 years          181     4414464   \n",
       "26844  United Kingdom  2015  female    75+ years          108     3070457   \n",
       "26845  United Kingdom  2015  female  15-24 years          104     3966564   \n",
       "26846  United Kingdom  2015  female   5-14 years            6     3663221   \n",
       "\n",
       "       suicides/100k pop        country-year  HDI for year  gdp_for_year ($)   \\\n",
       "26841               5.33  United Kingdom2015           NaN  2,885,570,309,161   \n",
       "26842               4.32  United Kingdom2015           NaN  2,885,570,309,161   \n",
       "26843               4.10  United Kingdom2015           NaN  2,885,570,309,161   \n",
       "26844               3.52  United Kingdom2015           NaN  2,885,570,309,161   \n",
       "26845               2.62  United Kingdom2015           NaN  2,885,570,309,161   \n",
       "26846               0.16  United Kingdom2015           NaN  2,885,570,309,161   \n",
       "\n",
       "       gdp_per_capita ($)    generation  \n",
       "26841               47240  Generation X  \n",
       "26842               47240       Boomers  \n",
       "26843               47240    Millenials  \n",
       "26844               47240        Silent  \n",
       "26845               47240    Millenials  \n",
       "26846               47240  Generation Z  "
      ]
     },
     "execution_count": 72,
     "metadata": {},
     "output_type": "execute_result"
    }
   ],
   "source": [
    "UKdataFemale_2015"
   ]
  },
  {
   "cell_type": "code",
   "execution_count": 100,
   "id": "68fc65bd",
   "metadata": {},
   "outputs": [],
   "source": [
    "Uk_Population_By_femaleAge = UKdataFemale_2015.groupby('age').population.sum()"
   ]
  },
  {
   "cell_type": "code",
   "execution_count": 101,
   "id": "b2a3fa4c",
   "metadata": {},
   "outputs": [
    {
     "data": {
      "text/plain": [
       "age\n",
       "15-24 years    3966564\n",
       "25-34 years    4414464\n",
       "35-54 years    8881944\n",
       "5-14 years     3663221\n",
       "55-74 years    7075576\n",
       "75+ years      3070457\n",
       "Name: population, dtype: int64"
      ]
     },
     "execution_count": 101,
     "metadata": {},
     "output_type": "execute_result"
    }
   ],
   "source": [
    "Uk_Population_By_femaleAge  "
   ]
  },
  {
   "cell_type": "code",
   "execution_count": 103,
   "id": "9b25549e",
   "metadata": {},
   "outputs": [
    {
     "data": {
      "image/png": "[encoded data removed]",
      "text/plain": [
       "<Figure size 432x288 with 1 Axes>"
      ]
     },
     "metadata": {
      "needs_background": "light"
     },
     "output_type": "display_data"
    }
   ],
   "source": [
    "Uk_Population_By_femaleAge_chart = Uk_Population_By_femaleAge.plot.bar()"
   ]
  },
  {
   "cell_type": "code",
   "execution_count": 105,
   "id": "1abdb8b3",
   "metadata": {},
   "outputs": [
    {
     "data": {
      "image/png": "[encoded data removed]",
      "text/plain": [
       "<Figure size 432x288 with 1 Axes>"
      ]
     },
     "metadata": {},
     "output_type": "display_data"
    }
   ],
   "source": [
    "labels = '15-24 years', '25-34 years','35-54 years','5-14 years','55-74 years','75+ years'\n",
    "explode = (0,0,0,0,0,0)\n",
    "colors = ['green','blue','red','gold','lightcoral','lightskyblue']\n",
    "plt.pie(Uk_Population_By_femaleAge, colors = colors,labels=labels,explode=explode,shadow = True, startangle = 180)\n",
    "plt.title('percentage of population of women of different ages in UK 2015')\n",
    "plt.show()"
   ]
  },
  {
   "cell_type": "code",
   "execution_count": 73,
   "id": "18cd1b49",
   "metadata": {},
   "outputs": [],
   "source": [
    "Uk_Suicides_By_femaleAge = UKdataFemale_2015.groupby('age').suicides_no.sum()"
   ]
  },
  {
   "cell_type": "code",
   "execution_count": 74,
   "id": "72cb269b",
   "metadata": {},
   "outputs": [
    {
     "data": {
      "text/plain": [
       "age\n",
       "15-24 years    104\n",
       "25-34 years    181\n",
       "35-54 years    473\n",
       "5-14 years       6\n",
       "55-74 years    306\n",
       "75+ years      108\n",
       "Name: suicides_no, dtype: int64"
      ]
     },
     "execution_count": 74,
     "metadata": {},
     "output_type": "execute_result"
    }
   ],
   "source": [
    "Uk_Suicides_By_femaleAge"
   ]
  },
  {
   "cell_type": "code",
   "execution_count": 106,
   "id": "468aa3c8",
   "metadata": {},
   "outputs": [
    {
     "data": {
      "image/png": "[encoded data removed]",
      "text/plain": [
       "<Figure size 432x288 with 1 Axes>"
      ]
     },
     "metadata": {
      "needs_background": "light"
     },
     "output_type": "display_data"
    }
   ],
   "source": [
    "Uk_Suicides_By_femaleAge_chart = Uk_Suicides_By_femaleAge.plot.bar()"
   ]
  },
  {
   "cell_type": "code",
   "execution_count": 77,
   "id": "733e20fd",
   "metadata": {},
   "outputs": [
    {
     "data": {
      "image/png": "[encoded data removed]",
      "text/plain": [
       "<Figure size 432x288 with 1 Axes>"
      ]
     },
     "metadata": {},
     "output_type": "display_data"
    }
   ],
   "source": [
    "labels = '15-24 years', '25-34 years','35-54 years','5-14 years','55-74 years','75+ years'\n",
    "explode = (0,0,0.1,0,0,0)\n",
    "colors = ['green','blue','red','gold','lightcoral','lightskyblue']\n",
    "plt.pie(Uk_Suicides_By_femaleAge, colors = colors,labels=labels,explode=explode,shadow = True, startangle = 180)\n",
    "plt.title('percentage of suicide rate in women of different ages in UK 2015')\n",
    "plt.show()"
   ]
  },
  {
   "cell_type": "code",
   "execution_count": 108,
   "id": "e338d965",
   "metadata": {},
   "outputs": [],
   "source": [
    "Uk_Population_By_age = UKdata_2015.groupby('age').population.sum()"
   ]
  },
  {
   "cell_type": "code",
   "execution_count": 109,
   "id": "d86686f0",
   "metadata": {},
   "outputs": [
    {
     "data": {
      "text/plain": [
       "age\n",
       "15-24 years     8118556\n",
       "25-34 years     8822757\n",
       "35-54 years    17574384\n",
       "5-14 years      7503697\n",
       "55-74 years    13792133\n",
       "75+ years       5271415\n",
       "Name: population, dtype: int64"
      ]
     },
     "execution_count": 109,
     "metadata": {},
     "output_type": "execute_result"
    }
   ],
   "source": [
    "Uk_Population_By_age"
   ]
  },
  {
   "cell_type": "code",
   "execution_count": 110,
   "id": "0911e9e5",
   "metadata": {},
   "outputs": [
    {
     "data": {
      "image/png": "[encoded data removed]",
      "text/plain": [
       "<Figure size 432x288 with 1 Axes>"
      ]
     },
     "metadata": {
      "needs_background": "light"
     },
     "output_type": "display_data"
    }
   ],
   "source": [
    "Uk_Population_By_age_chart = Uk_Population_By_age.plot.bar()"
   ]
  },
  {
   "cell_type": "code",
   "execution_count": 111,
   "id": "1f24f6a7",
   "metadata": {},
   "outputs": [
    {
     "data": {
      "image/png": "[encoded data removed]",
      "text/plain": [
       "<Figure size 432x288 with 1 Axes>"
      ]
     },
     "metadata": {},
     "output_type": "display_data"
    }
   ],
   "source": [
    "labels = '15-24 years', '25-34 years','35-54 years','5-14 years','55-74 years','75+ years'\n",
    "explode = (0,0,0,0,0,0)\n",
    "colors = ['green','blue','red','gold','lightcoral','lightskyblue']\n",
    "plt.pie(Uk_Population_By_age, colors = colors,labels=labels,explode=explode,shadow = True, startangle = 180)\n",
    "plt.title('percentage of population different ages (men and women) in UK 2015')\n",
    "plt.show()"
   ]
  },
  {
   "cell_type": "code",
   "execution_count": 79,
   "id": "e3deb793",
   "metadata": {},
   "outputs": [],
   "source": [
    "# Seems 35-54 is a dangerous age. Lets see\n",
    "Uk_Suicides_By_age = UKdata_2015.groupby('age').suicides_no.sum()"
   ]
  },
  {
   "cell_type": "code",
   "execution_count": 80,
   "id": "e276bb04",
   "metadata": {},
   "outputs": [
    {
     "data": {
      "text/plain": [
       "age\n",
       "15-24 years     478\n",
       "25-34 years     777\n",
       "35-54 years    2052\n",
       "5-14 years       10\n",
       "55-74 years    1212\n",
       "75+ years       381\n",
       "Name: suicides_no, dtype: int64"
      ]
     },
     "execution_count": 80,
     "metadata": {},
     "output_type": "execute_result"
    }
   ],
   "source": [
    "Uk_Suicides_By_age"
   ]
  },
  {
   "cell_type": "code",
   "execution_count": 112,
   "id": "8aa7136b",
   "metadata": {},
   "outputs": [
    {
     "data": {
      "image/png": "[encoded data removed]",
      "text/plain": [
       "<Figure size 432x288 with 1 Axes>"
      ]
     },
     "metadata": {
      "needs_background": "light"
     },
     "output_type": "display_data"
    }
   ],
   "source": [
    "Uk_Suicides_By_age_chart = Uk_Suicides_By_age.plot.bar()"
   ]
  },
  {
   "cell_type": "code",
   "execution_count": 83,
   "id": "bbf49f88",
   "metadata": {},
   "outputs": [
    {
     "data": {
      "image/png": "[encoded data removed]",
      "text/plain": [
       "<Figure size 432x288 with 1 Axes>"
      ]
     },
     "metadata": {},
     "output_type": "display_data"
    }
   ],
   "source": [
    "labels = '15-24 years', '25-34 years','35-54 years','5-14 years','55-74 years','75+ years'\n",
    "explode = (0,0,0.1,0,0,0)\n",
    "colors = ['green','blue','red','gold','lightcoral','lightskyblue']\n",
    "plt.pie(Uk_Suicides_By_age, colors = colors,labels=labels,explode=explode,shadow = True, startangle = 180)\n",
    "plt.title('percentage of suicide rate different ages (men and women) in UK 2015')\n",
    "plt.show()"
   ]
  }
 ],
 "metadata": {
  "kernelspec": {
   "display_name": "Python 3 (ipykernel)",
   "language": "python",
   "name": "python3"
  },
  "language_info": {
   "codemirror_mode": {
    "name": "ipython",
    "version": 3
   },
   "file_extension": ".py",
   "mimetype": "text/x-python",
   "name": "python",
   "nbconvert_exporter": "python",
   "pygments_lexer": "ipython3",
   "version": "3.9.12"
  }
 },
 "nbformat": 4,
 "nbformat_minor": 5
}
